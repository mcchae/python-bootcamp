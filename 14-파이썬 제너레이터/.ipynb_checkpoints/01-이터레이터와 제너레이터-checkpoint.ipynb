{
 "cells": [
  {
   "cell_type": "markdown",
   "metadata": {},
   "source": [
    "# 이터페이터와 제너레이터"
   ]
  },
  {
   "cell_type": "markdown",
   "metadata": {},
   "source": [
    "제너레이터는 return 대신 yield 키워드를 사용하는 함수로 표현되는 것이지만 이터레이터와 어떻게 다른지 확인해 볼 예정입니다. 제너페이터와 이터페이터는 모두 for 루프에서 사용할 수 있습니다. 제너레이터는 특히 모든 데이터를 메모리에 한꺼번에 적재하여 처리하는 대신 적은 메모리로 큰 작업을 수행하는데 유용하게 사용될 수 있습니다.\n",
    "\n",
    "이전에 파이썬 2 에서 range() 및 xrange() 를 설명할 때 yield가 등장했었습니다. 파이썬 2 에서는 xrange()가 제너페이터였고 파이썬 3에서는 xrange() 가 없어졌고 range() 자체가 제너페이터입니다.\n",
    "\n",
    "대부분의 경우 제너페이터는 일반 함수와 차이가 거의 없습니다. 하지만 일반 함수와의 차이점은 반복(이터레이션) 프로토콜을 지원하는 객체로 인식된다는 것입니다. yield는 return 처럼 생각하면 되지만 실제로 해당 값으로 해당 함수를 끝내는 것이 아니라 다음 제너레이터가 호출되었을 때는 이전에 yield 했던 그 다음에 계속 진행된다는 것이 일반 함수와 다른 점입니다. \n",
    "이런 것은 *상태 보관 (state suspension)* 이라는 기능을 이용하여 제너레이터의 상태를 보관하고 있다가 다음번에 호출되었을 때 계속 진행할 수 있게 되는 것입니다.\n",
    "\n",
    "다음과 같은 예로 시작해 봅시다."
   ]
  },
  {
   "cell_type": "code",
   "execution_count": 1,
   "metadata": {},
   "outputs": [],
   "source": [
    "# 주어진 값의 3 제곱을 구하는 제터레이터를 작성해 보았습니다\n",
    "def gencubes(n):\n",
    "    for num in range(n):\n",
    "        yield num**3"
   ]
  },
  {
   "cell_type": "code",
   "execution_count": 2,
   "metadata": {},
   "outputs": [
    {
     "name": "stdout",
     "output_type": "stream",
     "text": [
      "0\n",
      "1\n",
      "8\n",
      "27\n",
      "64\n",
      "125\n",
      "216\n",
      "343\n",
      "512\n",
      "729\n"
     ]
    }
   ],
   "source": [
    "for x in gencubes(10):\n",
    "    print(x)"
   ]
  },
  {
   "cell_type": "markdown",
   "metadata": {},
   "source": [
    "여기서는 yield 대신 return을 사용해도 동일한 결과가 나올 것입니다.\n",
    "\n",
    "제너레이터는 매우 큰 결과를 계속하여 작업할 때 모든 결과를 미리 만들어 놓지 않고 일을 계속해서 수행하는데 이용하면 좋습니다.\n",
    "\n",
    "다음의 [피보나치 수열](https://ko.wikipedia.org/wiki/%ED%94%BC%EB%B3%B4%EB%82%98%EC%B9%98_%EC%88%98)에 관련된 예제를 확인해 보겠습니다."
   ]
  },
  {
   "cell_type": "code",
   "execution_count": 3,
   "metadata": {},
   "outputs": [],
   "source": [
    "def genfibon(n):\n",
    "    '''\n",
    "    n 까지의 피보나치 수열을 구하는 제너레이터\n",
    "    '''\n",
    "    a = 1\n",
    "    b = 1\n",
    "    for i in range(n):\n",
    "        yield a\n",
    "        a,b = b,a+b"
   ]
  },
  {
   "cell_type": "code",
   "execution_count": 4,
   "metadata": {},
   "outputs": [
    {
     "name": "stdout",
     "output_type": "stream",
     "text": [
      "1\n",
      "1\n",
      "2\n",
      "3\n",
      "5\n",
      "8\n",
      "13\n",
      "21\n",
      "34\n",
      "55\n"
     ]
    }
   ],
   "source": [
    "for num in genfibon(10):\n",
    "    print(num)"
   ]
  },
  {
   "cell_type": "markdown",
   "metadata": {},
   "source": [
    "제너레이터가 아니라 일반 함수로 표현해 보겠습니다."
   ]
  },
  {
   "cell_type": "code",
   "execution_count": 5,
   "metadata": {},
   "outputs": [],
   "source": [
    "def fibon(n):\n",
    "    a = 1\n",
    "    b = 1\n",
    "    output = []\n",
    "    \n",
    "    for i in range(n):\n",
    "        output.append(a)\n",
    "        a,b = b,a+b\n",
    "        \n",
    "    return output"
   ]
  },
  {
   "cell_type": "code",
   "execution_count": 6,
   "metadata": {},
   "outputs": [
    {
     "data": {
      "text/plain": [
       "[1, 1, 2, 3, 5, 8, 13, 21, 34, 55]"
      ]
     },
     "execution_count": 6,
     "metadata": {},
     "output_type": "execute_result"
    }
   ],
   "source": [
    "fibon(10)"
   ]
  },
  {
   "cell_type": "markdown",
   "metadata": {},
   "source": [
    "위에서와 같이 10 까지의 피보나치 수열을 구한다면 제너레이터나 일반 함수나 큰 차이가 나지 않을 것입니다. 하지만 만약 n 이 큰 수 (예를 들어 1,000,000 과 같은) 라고 가정해 보겠습니다. 제너레이터는 내부적으로 메모리 상에 결과를 계속 가지고 있지 않지만 일반 함수는 해당 개수 만큼 리스트에 결과 값을 담고 있을 것입니다. 동일한 결과를 처리하는데 있어 함수 보다는 제너레이터를 이용하면 메모리를 크게 절약할 수 있음을 알 수 있습니다.\n",
    "\n",
    "## next() 와 iter() 빌트인 함수\n",
    "\n",
    "제너레이터를 더 확실히 알려고 하려면 next() 및 iter() 빌트인 함수를 알아야 합니다.\n",
    "\n",
    "다음의 예를 확인해 보겠습니다."
   ]
  },
  {
   "cell_type": "code",
   "execution_count": 7,
   "metadata": {},
   "outputs": [],
   "source": [
    "def simple_gen():\n",
    "    for x in [0, 1, 2]:\n",
    "        yield x"
   ]
  },
  {
   "cell_type": "code",
   "execution_count": 8,
   "metadata": {},
   "outputs": [],
   "source": [
    "# simple_gen 이라는 제너레이터를 g 변수에 assign 하였습니다.\n",
    "g = simple_gen()"
   ]
  },
  {
   "cell_type": "code",
   "execution_count": 9,
   "metadata": {},
   "outputs": [
    {
     "name": "stdout",
     "output_type": "stream",
     "text": [
      "0\n"
     ]
    }
   ],
   "source": [
    "print(next(g))"
   ]
  },
  {
   "cell_type": "code",
   "execution_count": 10,
   "metadata": {},
   "outputs": [
    {
     "name": "stdout",
     "output_type": "stream",
     "text": [
      "1\n"
     ]
    }
   ],
   "source": [
    "print(next(g))"
   ]
  },
  {
   "cell_type": "code",
   "execution_count": 11,
   "metadata": {},
   "outputs": [
    {
     "name": "stdout",
     "output_type": "stream",
     "text": [
      "2\n"
     ]
    }
   ],
   "source": [
    "print(next(g))"
   ]
  },
  {
   "cell_type": "code",
   "execution_count": 12,
   "metadata": {},
   "outputs": [
    {
     "ename": "StopIteration",
     "evalue": "",
     "output_type": "error",
     "traceback": [
      "\u001b[0;31m---------------------------------------------------------------------------\u001b[0m",
      "\u001b[0;31mStopIteration\u001b[0m                             Traceback (most recent call last)",
      "\u001b[0;32m<ipython-input-12-1dfb29d6357e>\u001b[0m in \u001b[0;36m<module>\u001b[0;34m()\u001b[0m\n\u001b[0;32m----> 1\u001b[0;31m \u001b[0mprint\u001b[0m\u001b[0;34m(\u001b[0m\u001b[0mnext\u001b[0m\u001b[0;34m(\u001b[0m\u001b[0mg\u001b[0m\u001b[0;34m)\u001b[0m\u001b[0;34m)\u001b[0m\u001b[0;34m\u001b[0m\u001b[0m\n\u001b[0m",
      "\u001b[0;31mStopIteration\u001b[0m: "
     ]
    }
   ],
   "source": [
    "print(next(g))"
   ]
  },
  {
   "cell_type": "markdown",
   "metadata": {},
   "source": [
    "next() 함수를 이용하여 제너페이터를 계속하여 결과를 가져오다 마지막이 되면 StopIteration 오류가 발생합니다. 이 오류는 제너페이터가 종료되었음을 의미합니다. 그러면 for 루프에서는 어떻게 이런 오류가 발생하지 않는 것일까요? 그 이유는 이 오류가 발생하면 자동으로 for 루프를 빠져 나오기 때문입니다.\n",
    "\n",
    "다음에는 iter() 를 확인해 보겠습니다.\n",
    "\n",
    "우선 처음에 확인해 보았던 문자열을 확인해 보겠습니다."
   ]
  },
  {
   "cell_type": "code",
   "execution_count": 13,
   "metadata": {},
   "outputs": [
    {
     "name": "stdout",
     "output_type": "stream",
     "text": [
      "h\n",
      "e\n",
      "l\n",
      "l\n",
      "o\n"
     ]
    }
   ],
   "source": [
    "s = 'hello'\n",
    "\n",
    "#Iterate over string\n",
    "for let in s:\n",
    "    print(let)"
   ]
  },
  {
   "cell_type": "markdown",
   "metadata": {},
   "source": [
    "for 루프에서 위와 같은 문자열을 이용할 수는 있지만 문자열 자체가 이터레이터가 아니라 next() 함수를 이용할 수는 없습니다. 다른 말로 말하면 이터레이터는 next() 빌트인 함수를 호출하여 그 다음 값을 가져올 수 있는 객체를 의미합니다. 문자열 자체는 이터레이터가 아니므로 문자열로 부터 이터레이터를 구해야 하는데 그 때 이용할 수 있는 함수가 iter() 입니다.\n",
    "\n",
    "우선 다음과 같이 문자열에 대하여 next()를 호출해 보면,"
   ]
  },
  {
   "cell_type": "code",
   "execution_count": 14,
   "metadata": {},
   "outputs": [
    {
     "ename": "TypeError",
     "evalue": "'str' object is not an iterator",
     "output_type": "error",
     "traceback": [
      "\u001b[0;31m---------------------------------------------------------------------------\u001b[0m",
      "\u001b[0;31mTypeError\u001b[0m                                 Traceback (most recent call last)",
      "\u001b[0;32m<ipython-input-14-61c30b5fe1d5>\u001b[0m in \u001b[0;36m<module>\u001b[0;34m()\u001b[0m\n\u001b[0;32m----> 1\u001b[0;31m \u001b[0mnext\u001b[0m\u001b[0;34m(\u001b[0m\u001b[0ms\u001b[0m\u001b[0;34m)\u001b[0m\u001b[0;34m\u001b[0m\u001b[0m\n\u001b[0m",
      "\u001b[0;31mTypeError\u001b[0m: 'str' object is not an iterator"
     ]
    }
   ],
   "source": [
    "next(s)"
   ]
  },
  {
   "cell_type": "markdown",
   "metadata": {},
   "source": [
    "오류가 발생합니다. 하지만,"
   ]
  },
  {
   "cell_type": "code",
   "execution_count": 15,
   "metadata": {},
   "outputs": [],
   "source": [
    "s_iter = iter(s)"
   ]
  },
  {
   "cell_type": "code",
   "execution_count": 16,
   "metadata": {},
   "outputs": [
    {
     "data": {
      "text/plain": [
       "'h'"
      ]
     },
     "execution_count": 16,
     "metadata": {},
     "output_type": "execute_result"
    }
   ],
   "source": [
    "next(s_iter)"
   ]
  },
  {
   "cell_type": "code",
   "execution_count": 17,
   "metadata": {},
   "outputs": [
    {
     "data": {
      "text/plain": [
       "'e'"
      ]
     },
     "execution_count": 17,
     "metadata": {},
     "output_type": "execute_result"
    }
   ],
   "source": [
    "next(s_iter)"
   ]
  },
  {
   "cell_type": "markdown",
   "metadata": {},
   "source": [
    "iterm() 로 얻은 s_iter 이라는 문자열 이터레이터는 next()  를 호출하여 다음 값을 구할 수 있었습니다."
   ]
  },
  {
   "cell_type": "code",
   "execution_count": null,
   "metadata": {
    "collapsed": true
   },
   "outputs": [],
   "source": []
  }
 ],
 "metadata": {
  "kernelspec": {
   "display_name": "Python 3",
   "language": "python",
   "name": "python3"
  },
  "language_info": {
   "codemirror_mode": {
    "name": "ipython",
    "version": 3
   },
   "file_extension": ".py",
   "mimetype": "text/x-python",
   "name": "python",
   "nbconvert_exporter": "python",
   "pygments_lexer": "ipython3",
   "version": "3.6.2"
  }
 },
 "nbformat": 4,
 "nbformat_minor": 1
}
