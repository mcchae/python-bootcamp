{
 "cells": [
  {
   "cell_type": "markdown",
   "metadata": {},
   "source": [
    "# if,elif,else 구문\n",
    "\n",
    "\n",
    "파이썬에서 if 구문은 어떤 조건식에 맞는 경우 이를 실행하기 위하여 이용합니다.\n",
    "\n",
    "단어 의미 그대로 컴퓨터에게 다음과 같이 명령을 내리고 싶으면,\n",
    "\n",
    "\"이봐 만약 이런 조건이 만족하면 어떤 명령을 내리라구!\"\n",
    "\n",
    "그 다음에는 elif 또는 else 구분을 사용할 수 있습니다.\n",
    "\n",
    "\"만약 (if) 어떤 경우가 발생하면 어떤 명령을 실행하고, 아니고 만약 (else if) 다른 경우의 발생하면 또 다른 명령을 실행한다. 계속해서 다른 경우의 수 (else if)를 수행한다. 위의 모든 경우를 만족하지 않으면 (else) 이 명령을 실행한다.\"\n",
    "\n",
    "위에 말로 표현한 것을 다음과 같이 파이썬에 if, elif, else 구문을 이용해 봅니다.\n",
    "\n",
    "    if case1:\n",
    "        perform action1\n",
    "    elif case2:\n",
    "        perform action2\n",
    "    else: \n",
    "        perform action 3"
   ]
  },
  {
   "cell_type": "markdown",
   "metadata": {},
   "source": [
    "## 첫번째 예제\n",
    "\n",
    "간단하 예를 들어 봅니다."
   ]
  },
  {
   "cell_type": "code",
   "execution_count": 1,
   "metadata": {},
   "outputs": [
    {
     "name": "stdout",
     "output_type": "stream",
     "text": [
      "나는 참!\n"
     ]
    }
   ],
   "source": [
    "if True:\n",
    "    print '나는 참!'"
   ]
  },
  {
   "cell_type": "markdown",
   "metadata": {},
   "source": [
    "위의 초간단 if 문 다음에 else를 더해 보면,"
   ]
  },
  {
   "cell_type": "code",
   "execution_count": 2,
   "metadata": {},
   "outputs": [
    {
     "name": "stdout",
     "output_type": "stream",
     "text": [
      "x가 참이 아닌 경우\n"
     ]
    }
   ],
   "source": [
    "x = False\n",
    "\n",
    "if x:\n",
    "    print 'x 는 참!'\n",
    "else:\n",
    "    print 'x가 참이 아닌 경우'"
   ]
  },
  {
   "cell_type": "markdown",
   "metadata": {},
   "source": [
    "### 여러 조건\n",
    "\n",
    "이제는 if, elif, else 를 모두 활용해 보겠습니다."
   ]
  },
  {
   "cell_type": "code",
   "execution_count": 4,
   "metadata": {},
   "outputs": [
    {
     "name": "stdout",
     "output_type": "stream",
     "text": [
      "Welcome to the bank!\n"
     ]
    }
   ],
   "source": [
    "loc = 'Bank'\n",
    "\n",
    "if loc == 'Auto Shop':\n",
    "    print 'Welcome to the Auto Shop!'\n",
    "elif loc == 'Bank':\n",
    "    print 'Welcome to the bank!'\n",
    "else:\n",
    "    print \"Where are you?\""
   ]
  },
  {
   "cell_type": "markdown",
   "metadata": {},
   "source": [
    "얼마나 많은 if, elif, else 가 있건 간에 해당 조건은 이 안에 모두 나타나게 되어 있습니다. 여기서 주의 깊게 확인할 것은 if문과 else문은 처음과 끝에 있고 그 중간에는 얼마든지 많은 elif 가 올 수 있다는 점입니다."
   ]
  },
  {
   "cell_type": "code",
   "execution_count": 6,
   "metadata": {},
   "outputs": [
    {
     "name": "stdout",
     "output_type": "stream",
     "text": [
      "Welcome Sammy!\n"
     ]
    }
   ],
   "source": [
    "person = 'Sammy'\n",
    "\n",
    "if person == 'Sammy':\n",
    "    print 'Welcome Sammy!'\n",
    "else:\n",
    "    print \"Welcome, what's your name?\" "
   ]
  },
  {
   "cell_type": "code",
   "execution_count": 7,
   "metadata": {},
   "outputs": [
    {
     "name": "stdout",
     "output_type": "stream",
     "text": [
      "Welcome George!\n"
     ]
    }
   ],
   "source": [
    "person = 'George'\n",
    "\n",
    "if person == 'Sammy':\n",
    "    print 'Welcome Sammy!'\n",
    "elif person =='George':\n",
    "    print \"Welcome George!\"\n",
    "else:\n",
    "    print \"Welcome, what's your name?\" "
   ]
  },
  {
   "cell_type": "markdown",
   "metadata": {},
   "source": [
    "## 들여쓰기\n",
    "\n",
    "파이썬에서 들여쓰기가 어떻게 코드를 구조화하고 처리하는지 심도 있게 이해할 필요가 있습니다.\n",
    "함수 등을 다룰 때 다시한번 언급하도록 하겠습니다."
   ]
  },
  {
   "cell_type": "code",
   "execution_count": null,
   "metadata": {
    "collapsed": true
   },
   "outputs": [],
   "source": []
  }
 ],
 "metadata": {
  "kernelspec": {
   "display_name": "Python 3",
   "language": "python",
   "name": "python3"
  },
  "language_info": {
   "codemirror_mode": {
    "name": "ipython",
    "version": 3
   },
   "file_extension": ".py",
   "mimetype": "text/x-python",
   "name": "python",
   "nbconvert_exporter": "python",
   "pygments_lexer": "ipython3",
   "version": "3.6.2"
  }
 },
 "nbformat": 4,
 "nbformat_minor": 1
}
