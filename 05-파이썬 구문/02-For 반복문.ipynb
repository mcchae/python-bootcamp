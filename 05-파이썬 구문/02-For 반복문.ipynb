{
 "cells": [
  {
   "cell_type": "markdown",
   "metadata": {},
   "source": [
    "# for 반복문\n",
    "\n",
    "**for** 반복문은 파이썬에서 항목을 열거할 수 있는 *시퀀스*를 따라 돌면서 반복합니다. 문자열, 리스트, 튜플 또는 keys나 values를 통해 사전형의 결과를 통해 반복할 수 있습니다.\n",
    "\n",
    "이전 파일에 관하여 살펴볼 때 이미 **for** 구문을 살펴보았습니다만 다음과 같이 정의하겠습니다.\n",
    "\n",
    "    for item in object:\n",
    "        statements to do stuff\n",
    "    else:\n",
    "        statements after for loop"
   ]
  },
  {
   "cell_type": "markdown",
   "metadata": {},
   "source": [
    "for 다음에 나오는 변수명은 전적으로 작성하는 사람 마음입니다. 하지만 나중에 다시 자신의 코드를 확인하거 남이 나의 코드를 읽을 때 최대한 빨리 그 내용을 파악할 수 있는 이름을 짓는 것이 중요합니다. 그러면 이 변수를 for 반복문 내에서 사용할 수 있습니다.\n",
    "\n",
    "차근 차근 for 반복문에 대하여 알아보겠습니다.\n",
    "\n",
    "## 예제 1\n",
    "리스트 항목 반복"
   ]
  },
  {
   "cell_type": "code",
   "execution_count": 1,
   "metadata": {},
   "outputs": [],
   "source": [
    "# 다음과 같은 리스트가 있습니다.\n",
    "l = [1,2,3,4,5,6,7,8,9,10]\n",
    "l2 = range(1,11)\n",
    "l3 = [x+1 for x in range(10)]"
   ]
  },
  {
   "cell_type": "code",
   "execution_count": 2,
   "metadata": {},
   "outputs": [
    {
     "name": "stdout",
     "output_type": "stream",
     "text": [
      "1\n",
      "2\n",
      "3\n",
      "4\n",
      "5\n",
      "6\n",
      "7\n",
      "8\n",
      "9\n",
      "10\n"
     ]
    }
   ],
   "source": [
    "for num in l3:\n",
    "    print(num)"
   ]
  },
  {
   "cell_type": "markdown",
   "metadata": {},
   "source": [
    "좋습니다! 이제는 for 반복문을 돌면서 짝수만 출력해 볼까요? 우선은 모듈로 (나누고 나머지)를 이해하는게 좋겠습니다.\n",
    "\n",
    "### 모듈로\n",
    "모듈로는 어떤 정수를 다른 정수로 나눈 나머지를 의미합니다. (0 ~ (나눈수-1))"
   ]
  },
  {
   "cell_type": "code",
   "execution_count": 3,
   "metadata": {},
   "outputs": [
    {
     "data": {
      "text/plain": [
       "2"
      ]
     },
     "execution_count": 3,
     "metadata": {},
     "output_type": "execute_result"
    }
   ],
   "source": [
    "17 % 5"
   ]
  },
  {
   "cell_type": "markdown",
   "metadata": {},
   "source": [
    "위의 식은 17을 5로 나눈 나머지 2가 결과로 나옵니다."
   ]
  },
  {
   "cell_type": "code",
   "execution_count": 4,
   "metadata": {},
   "outputs": [
    {
     "data": {
      "text/plain": [
       "1"
      ]
     },
     "execution_count": 4,
     "metadata": {},
     "output_type": "execute_result"
    }
   ],
   "source": [
    "# 10을 3 으로 나눈 나머지 1\n",
    "10 % 3"
   ]
  },
  {
   "cell_type": "code",
   "execution_count": 5,
   "metadata": {},
   "outputs": [
    {
     "data": {
      "text/plain": [
       "4"
      ]
     },
     "execution_count": 5,
     "metadata": {},
     "output_type": "execute_result"
    }
   ],
   "source": [
    "# 18을 7로 나눈 나머지 4\n",
    "18 % 7"
   ]
  },
  {
   "cell_type": "code",
   "execution_count": 6,
   "metadata": {},
   "outputs": [
    {
     "data": {
      "text/plain": [
       "0"
      ]
     },
     "execution_count": 6,
     "metadata": {},
     "output_type": "execute_result"
    }
   ],
   "source": [
    "# 4를 2로 나눈 나머지 0\n",
    "4 % 2"
   ]
  },
  {
   "cell_type": "markdown",
   "metadata": {},
   "source": [
    "짝수는 2로 나누었을 때 나머지가 0인 수 입니다.\n",
    "\n",
    "다시 **for** 반복문으로 돌아가,\n",
    "\n",
    "## 예제 2\n",
    "짝수만 출력해 봅니다."
   ]
  },
  {
   "cell_type": "code",
   "execution_count": 7,
   "metadata": {},
   "outputs": [
    {
     "name": "stdout",
     "output_type": "stream",
     "text": [
      "2\n",
      "4\n",
      "6\n",
      "8\n",
      "10\n"
     ]
    }
   ],
   "source": [
    "for num in l:\n",
    "    if num % 2 == 0:\n",
    "        print(num)"
   ]
  },
  {
   "cell_type": "markdown",
   "metadata": {},
   "source": [
    "else를 이용하여 홀수인 경우를 구분해 봅니다."
   ]
  },
  {
   "cell_type": "code",
   "execution_count": 8,
   "metadata": {},
   "outputs": [
    {
     "name": "stdout",
     "output_type": "stream",
     "text": [
      "홀수\n",
      "2\n",
      "홀수\n",
      "4\n",
      "홀수\n",
      "6\n",
      "홀수\n",
      "8\n",
      "홀수\n",
      "10\n"
     ]
    }
   ],
   "source": [
    "for num in l:\n",
    "    if num % 2 == 0:\n",
    "        print(num)\n",
    "    else:\n",
    "        print('홀수')"
   ]
  },
  {
   "cell_type": "markdown",
   "metadata": {},
   "source": [
    "## 예제 3\n",
    "**for** 반복문을 사용하여 또 다른 일반적인 것으로 반복하는 동안 해당 값을 계산하는 경우가 있습니다. 예를 들어 어떤 수를 반복하면서 그 수를 더하는 것을 해 보면,"
   ]
  },
  {
   "cell_type": "code",
   "execution_count": 9,
   "metadata": {},
   "outputs": [
    {
     "name": "stdout",
     "output_type": "stream",
     "text": [
      "55\n"
     ]
    }
   ],
   "source": [
    "# Start sum at zero\n",
    "list_sum = 0 \n",
    "\n",
    "for num in l:\n",
    "    list_sum = list_sum + num\n",
    "\n",
    "print(list_sum)"
   ]
  },
  {
   "cell_type": "markdown",
   "metadata": {},
   "source": [
    "리스트 l 에 있는 1부터 10까지의 더한 결과값인 55를 구했습니다. \n",
    "일전에 \n",
    "\n",
    "    a = a + b\n",
    "는\n",
    "\n",
    "    a += b\n",
    "라고 표현할 수 있다고 하였습니다."
   ]
  },
  {
   "cell_type": "code",
   "execution_count": 10,
   "metadata": {},
   "outputs": [
    {
     "name": "stdout",
     "output_type": "stream",
     "text": [
      "55\n"
     ]
    }
   ],
   "source": [
    "# Start sum at zero\n",
    "list_sum = 0 \n",
    "\n",
    "for num in l:\n",
    "    list_sum += num\n",
    "\n",
    "print(list_sum)"
   ]
  },
  {
   "cell_type": "markdown",
   "metadata": {},
   "source": [
    "## 예제 4\n",
    "위에서는 리스트에 대하여 반복하여 보았습니다만 문자열은 어떨까요? 문자열은 해당 문자가 일렬로 구성되어 있는 것이라 했습니다."
   ]
  },
  {
   "cell_type": "code",
   "execution_count": 11,
   "metadata": {},
   "outputs": [
    {
     "name": "stdout",
     "output_type": "stream",
     "text": [
      "T\n",
      "h\n",
      "i\n",
      "s\n",
      " \n",
      "i\n",
      "s\n",
      " \n",
      "a\n",
      " \n",
      "s\n",
      "t\n",
      "r\n",
      "i\n",
      "n\n",
      "g\n",
      ".\n"
     ]
    }
   ],
   "source": [
    "for letter in 'This is a string.':\n",
    "    print(letter)"
   ]
  },
  {
   "cell_type": "markdown",
   "metadata": {},
   "source": [
    "## 예제 5\n",
    "이제는 튜플을 살펴볼까요?"
   ]
  },
  {
   "cell_type": "code",
   "execution_count": 12,
   "metadata": {},
   "outputs": [
    {
     "name": "stdout",
     "output_type": "stream",
     "text": [
      "1\n",
      "2\n",
      "3\n",
      "4\n",
      "5\n"
     ]
    }
   ],
   "source": [
    "tup = (1,2,3,4,5)\n",
    "\n",
    "for t in tup:\n",
    "    print(t)"
   ]
  },
  {
   "cell_type": "markdown",
   "metadata": {},
   "source": [
    "## 예제 6\n",
    "튜플은 **for** 반복문에서 특별한 성질을 갖습니다. 만약 튜플로 구성된 리스트가 있다고 할 때 그 해당 내용은 실제 튜플로 분해될 수 있습니다.이것을 *튜플 언팩킹(tuple unpacking)* 이라고 합니다."
   ]
  },
  {
   "cell_type": "code",
   "execution_count": 13,
   "metadata": {},
   "outputs": [],
   "source": [
    "l = [(2,4),(6,8),(10,12)]"
   ]
  },
  {
   "cell_type": "code",
   "execution_count": 14,
   "metadata": {},
   "outputs": [
    {
     "name": "stdout",
     "output_type": "stream",
     "text": [
      "(2, 4)\n",
      "(6, 8)\n",
      "(10, 12)\n"
     ]
    }
   ],
   "source": [
    "for tup in l:\n",
    "    print(tup)"
   ]
  },
  {
   "cell_type": "code",
   "execution_count": 15,
   "metadata": {},
   "outputs": [
    {
     "name": "stdout",
     "output_type": "stream",
     "text": [
      "2 4\n",
      "6 8\n",
      "10 12\n"
     ]
    }
   ],
   "source": [
    "# 언패킹 사용\n",
    "for (t1,t2) in l:\n",
    "    print(t1,t2)"
   ]
  },
  {
   "cell_type": "code",
   "execution_count": 16,
   "metadata": {},
   "outputs": [
    {
     "name": "stdout",
     "output_type": "stream",
     "text": [
      "2 4\n",
      "6 8\n",
      "10 12\n"
     ]
    }
   ],
   "source": [
    "# 파이썬에서 t1, t2 와 (t1, t2) 는 동일한 개념입니다\n",
    "for t1,t2 in l:\n",
    "    print(t1,t2)"
   ]
  },
  {
   "cell_type": "markdown",
   "metadata": {},
   "source": [
    "이와 같은 방식으로 단순 반복을 너머 해당 내용을 분해하는 언패킹도 알아보았습니다. 다음으로는 사전을 어떻게 **for** 반복문에 사용할지 확인해 보겠습니다."
   ]
  },
  {
   "cell_type": "markdown",
   "metadata": {},
   "source": [
    "## 예제 7"
   ]
  },
  {
   "cell_type": "code",
   "execution_count": 17,
   "metadata": {},
   "outputs": [],
   "source": [
    "d = {'k1':1,'k2':2,'k3':3}"
   ]
  },
  {
   "cell_type": "code",
   "execution_count": 18,
   "metadata": {},
   "outputs": [
    {
     "name": "stdout",
     "output_type": "stream",
     "text": [
      "k1\n",
      "k2\n",
      "k3\n"
     ]
    }
   ],
   "source": [
    "for item in d:\n",
    "    print(item)"
   ]
  },
  {
   "cell_type": "markdown",
   "metadata": {},
   "source": [
    "위에서 사전형을 반복시키면 키만 나왔습니다. 그런데 값 또는 키와 값을 모두 같이 반복 시키려면 어떻게 하면 될까요?\n",
    "\n",
    "### <font color='red'>파이썬 3 차이!</font>\n",
    "\n",
    "### 파이썬 2: .iteritems() 메서드 사용\n",
    "파이썬 2에서는 키와 값을 모두 가져오기 위하여 .iteritems()를 이용하는게 좋습니다.이것은 제너레이터 (이후에 따로 살펴볼 것입니다)를 가져와서 키와 값을 하나씩 하나씩 가져오는 역할을 수행하지만, items() 라는 메서드는 사전에 있는 모든 키, 값의 결과를 만들어 그것을 열거합니다. 후자의 경우 사전의 내용이 충분히 크다면 메모리를 낭비하는 결과를 가져올 것입니다.\n",
    "\n",
    "range(), xrange()의 경우에도 마찬가지입니다.\n",
    "\n",
    "참고로, [PEP 469](http://legacy.python.org/dev/peps/pep-0469/)를 확인해 보면, 파이썬2에서 사용하던 것을 파이썬3에서 동일한 목적으로 사용하려면,\n",
    "\n",
    "* d.keys() -> list(d.keys())\n",
    "* d.values() -> list(d.values())\n",
    "* d.items() -> list(d.items())\n",
    "* d.iterkeys() -> iter(d.keys())\n",
    "* d.itervalues() -> iter(d.values())\n",
    "* d.iteritems() -> iter(d.items())\n",
    "* d.viewkeys() -> d.keys()\n",
    "* d.viewvalues() -> d.values()\n",
    "* d.viewitems() -> d.items()"
   ]
  },
  {
   "cell_type": "code",
   "execution_count": 19,
   "metadata": {},
   "outputs": [
    {
     "data": {
      "text/plain": [
       "dict_items([('k1', 1), ('k2', 2), ('k3', 3)])"
      ]
     },
     "execution_count": 19,
     "metadata": {},
     "output_type": "execute_result"
    }
   ],
   "source": [
    "d.items()"
   ]
  },
  {
   "cell_type": "markdown",
   "metadata": {},
   "source": [
    "items() 메서드는 튜플의 목록을 리턴하기 때문에 위에서 살펴보았던 튜플 분해 (언패킹)가 이루어 질 수 있습니다."
   ]
  },
  {
   "cell_type": "code",
   "execution_count": 20,
   "metadata": {},
   "outputs": [
    {
     "name": "stdout",
     "output_type": "stream",
     "text": [
      "k1 1\n",
      "k2 2\n",
      "k3 3\n"
     ]
    }
   ],
   "source": [
    "# Create a generator\n",
    "for k,v in d.items():\n",
    "    print(k, v)"
   ]
  },
  {
   "cell_type": "markdown",
   "metadata": {},
   "source": [
    "## 예제 8\n",
    "\n",
    "색인 등을 이용하기 위하여 enumerate()를 *시퀀스* 객체에 적용할 수 있습니다.\n",
    "\n",
    "### 색인만을 이용한 경우"
   ]
  },
  {
   "cell_type": "code",
   "execution_count": 21,
   "metadata": {},
   "outputs": [
    {
     "name": "stdout",
     "output_type": "stream",
     "text": [
      "[0] a\n",
      "[1] c\n",
      "[2] b\n"
     ]
    }
   ],
   "source": [
    "l = [ 'a', 'c', 'b' ]\n",
    "for i in range(len(l)):\n",
    "    print('[%d] %s' % (i, l[i]))"
   ]
  },
  {
   "cell_type": "markdown",
   "metadata": {},
   "source": [
    "### 색인을 별도로 사용한 경우"
   ]
  },
  {
   "cell_type": "code",
   "execution_count": 22,
   "metadata": {},
   "outputs": [
    {
     "name": "stdout",
     "output_type": "stream",
     "text": [
      "[0] a\n",
      "[1] c\n",
      "[2] b\n"
     ]
    }
   ],
   "source": [
    "i = 0\n",
    "l = [ 'a', 'c', 'b' ]\n",
    "for item in l:\n",
    "    print('[%d] %s' % (i, item))\n",
    "    i += 1"
   ]
  },
  {
   "cell_type": "markdown",
   "metadata": {},
   "source": [
    "### enumerate를 사용한 경우\n",
    "\n",
    "위와 동일한 효과를 enumerate()를 이용해 보면,"
   ]
  },
  {
   "cell_type": "code",
   "execution_count": 23,
   "metadata": {},
   "outputs": [
    {
     "name": "stdout",
     "output_type": "stream",
     "text": [
      "[0] a\n",
      "[1] c\n",
      "[2] b\n"
     ]
    }
   ],
   "source": [
    "l = [ 'a', 'c', 'b' ]\n",
    "for i, item in enumerate(l):\n",
    "    print('[%d] %s' % (i, item))"
   ]
  },
  {
   "cell_type": "markdown",
   "metadata": {},
   "source": [
    "## 결론\n",
    "\n",
    "지금까지 튜플, 리스트, 문자열 및 사전 등에 대하여 for 반복문을 살펴보았습니다."
   ]
  },
  {
   "cell_type": "code",
   "execution_count": null,
   "metadata": {
    "collapsed": true
   },
   "outputs": [],
   "source": []
  }
 ],
 "metadata": {
  "kernelspec": {
   "display_name": "Python 3",
   "language": "python",
   "name": "python3"
  },
  "language_info": {
   "codemirror_mode": {
    "name": "ipython",
    "version": 3
   },
   "file_extension": ".py",
   "mimetype": "text/x-python",
   "name": "python",
   "nbconvert_exporter": "python",
   "pygments_lexer": "ipython3",
   "version": "3.6.2"
  }
 },
 "nbformat": 4,
 "nbformat_minor": 1
}
