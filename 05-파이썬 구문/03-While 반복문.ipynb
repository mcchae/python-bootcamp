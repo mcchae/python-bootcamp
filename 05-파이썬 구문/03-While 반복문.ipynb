{
 "cells": [
  {
   "cell_type": "markdown",
   "metadata": {
    "collapsed": true
   },
   "source": [
    "# while 반복문\n",
    "\n",
    "파이썬에서 **while** 구문은 for 구문과 더불어 대표 반복문 중에 하나입니다. for 반복문이 어떤 *시퀀스* 객체를 반복하는데 반해 **while** 반복문은 특정 조건이 만족할 때까지 하나 이상의 명령을 수행하도록 되어 있습니다.\n",
    "\n",
    "일반적인 형식은 다음과 같이 구성되어 있습니다.\n",
    "\n",
    "    while test:\n",
    "        code statement\n",
    "    else:\n",
    "        final code statements\n",
    "\n",
    "다음과 같이 확인해봅니다."
   ]
  },
  {
   "cell_type": "code",
   "execution_count": 1,
   "metadata": {},
   "outputs": [
    {
     "name": "stdout",
     "output_type": "stream",
     "text": [
      "x is currently:  0\n",
      " x is still less than 10, adding 1 to x\n",
      "x is currently:  1\n",
      " x is still less than 10, adding 1 to x\n",
      "x is currently:  2\n",
      " x is still less than 10, adding 1 to x\n",
      "x is currently:  3\n",
      " x is still less than 10, adding 1 to x\n",
      "x is currently:  4\n",
      " x is still less than 10, adding 1 to x\n",
      "x is currently:  5\n",
      " x is still less than 10, adding 1 to x\n",
      "x is currently:  6\n",
      " x is still less than 10, adding 1 to x\n",
      "x is currently:  7\n",
      " x is still less than 10, adding 1 to x\n",
      "x is currently:  8\n",
      " x is still less than 10, adding 1 to x\n",
      "x is currently:  9\n",
      " x is still less than 10, adding 1 to x\n"
     ]
    }
   ],
   "source": [
    "x = 0\n",
    "while x < 10:\n",
    "    print('x is currently: ', x)\n",
    "    print(' x is still less than 10, adding 1 to x')\n",
    "    x+=1"
   ]
  },
  {
   "cell_type": "markdown",
   "metadata": {},
   "source": [
    "**while** 구문 다음에 나오는 조건식이 True인 동안 반복문을 수행합니다. 따라서 x가 9까지 조건을 만족하므로 반복문을 실행하다 x가 10인 되는 순간 while 문을 빠져나오게 됩니다. while 다음에 else 문을 이용하면 while문을 빠져나오며 해당 명령이 실행됩니다."
   ]
  },
  {
   "cell_type": "code",
   "execution_count": 2,
   "metadata": {},
   "outputs": [
    {
     "name": "stdout",
     "output_type": "stream",
     "text": [
      "x is currently:  0\n",
      " x is still less than 10, adding 1 to x\n",
      "x is currently:  1\n",
      " x is still less than 10, adding 1 to x\n",
      "x is currently:  2\n",
      " x is still less than 10, adding 1 to x\n",
      "x is currently:  3\n",
      " x is still less than 10, adding 1 to x\n",
      "x is currently:  4\n",
      " x is still less than 10, adding 1 to x\n",
      "x is currently:  5\n",
      " x is still less than 10, adding 1 to x\n",
      "x is currently:  6\n",
      " x is still less than 10, adding 1 to x\n",
      "x is currently:  7\n",
      " x is still less than 10, adding 1 to x\n",
      "x is currently:  8\n",
      " x is still less than 10, adding 1 to x\n",
      "x is currently:  9\n",
      " x is still less than 10, adding 1 to x\n",
      "All Done!\n"
     ]
    }
   ],
   "source": [
    "x = 0\n",
    "\n",
    "while x < 10:\n",
    "    print('x is currently: ', x)\n",
    "    print(' x is still less than 10, adding 1 to x')\n",
    "    x+=1\n",
    "    \n",
    "else:\n",
    "    print('All Done!')"
   ]
  },
  {
   "cell_type": "markdown",
   "metadata": {},
   "source": [
    "# break, continue, pass\n",
    "\n",
    "반복문 안에는 **break**, **continue** 또는 **pass** 를 이용할 수 있는데, 각 항목의 의미는 다음과 같습니다.\n",
    "(위의 내용은 for 반복문도 동일하게 적용됩니다)\n",
    "\n",
    "    break: 가장 가까운 반복문을 빠져나갑니다.\n",
    "    continue: 반복문 안에서 아래의 명령을 수행하지 않고 다음의 반복문으로 시작합니다.\n",
    "    pass: 아무 명령도 실행하지 않습니다. (비어있는 구문을 정의할 때 필요)\n",
    "    \n",
    "    \n",
    "while 반복문에서는 아래와 같이 **break** 와 **continue** 가 나올 수 있습니다.\n",
    "\n",
    "    while test: \n",
    "        code statement\n",
    "        if test: \n",
    "            break\n",
    "        if test: \n",
    "            continue \n",
    "    else:\n",
    "        pass\n",
    "\n",
    "**break** 와 **continue** 구문은 반복문 안에서 어디든지 나타날 수 있지만 일반적으로 **if** 조건식에 따라 반복문을 빠져나가거나 다음 반복문으로 건너 뛰는 역할을 진행하는 것이 일반적입니다.\n",
    "\n",
    "**continue**를 이용한 예제를 확인해 보겠습니다."
   ]
  },
  {
   "cell_type": "code",
   "execution_count": 3,
   "metadata": {},
   "outputs": [
    {
     "name": "stdout",
     "output_type": "stream",
     "text": [
      "x is currently:  0\n",
      " x is still less than 10, adding 1 to x\n",
      "continuing...\n",
      "x is currently:  1\n",
      " x is still less than 10, adding 1 to x\n",
      "continuing...\n",
      "x is currently:  2\n",
      " x is still less than 10, adding 1 to x\n",
      "continuing...\n",
      "x is currently:  3\n",
      " x is still less than 10, adding 1 to x\n",
      "x==4\n",
      "x is currently:  4\n",
      " x is still less than 10, adding 1 to x\n",
      "x==5\n",
      "x is currently:  5\n",
      " x is still less than 10, adding 1 to x\n",
      "x==6\n",
      "x is currently:  6\n",
      " x is still less than 10, adding 1 to x\n",
      "x==7\n",
      "x is currently:  7\n",
      " x is still less than 10, adding 1 to x\n",
      "x==8\n",
      "x is currently:  8\n",
      " x is still less than 10, adding 1 to x\n",
      "x==9\n",
      "x is currently:  9\n",
      " x is still less than 10, adding 1 to x\n",
      "x==10\n"
     ]
    }
   ],
   "source": [
    "x = 0\n",
    "\n",
    "while x < 10:\n",
    "    print('x is currently: ', x)\n",
    "    print(' x is still less than 10, adding 1 to x')\n",
    "    x += 1\n",
    "    if x <= 3:\n",
    "        print('continuing...')\n",
    "        continue\n",
    "    else:\n",
    "        print('x==%s' % x)\n"
   ]
  },
  {
   "cell_type": "markdown",
   "metadata": {},
   "source": [
    "**break**를 이용한 예제를 확인해 보겠습니다."
   ]
  },
  {
   "cell_type": "code",
   "execution_count": 4,
   "metadata": {},
   "outputs": [
    {
     "name": "stdout",
     "output_type": "stream",
     "text": [
      "x is currently:  0\n",
      " x is still less than 10, adding 1 to x\n",
      "continuing...\n",
      "x is currently:  1\n",
      " x is still less than 10, adding 1 to x\n",
      "continuing...\n",
      "x is currently:  2\n",
      " x is still less than 10, adding 1 to x\n",
      "Breaking because x==3\n"
     ]
    }
   ],
   "source": [
    "x = 0\n",
    "\n",
    "while x < 10:\n",
    "    print('x is currently: ', x)\n",
    "    print(' x is still less than 10, adding 1 to x')\n",
    "    x += 1\n",
    "    if x == 3:\n",
    "        print('Breaking because x==3')\n",
    "        break\n",
    "    else:\n",
    "        print('continuing...')\n",
    "        continue"
   ]
  },
  {
   "cell_type": "markdown",
   "metadata": {},
   "source": [
    "3 보다 큰 경우는 반복문을 돌지 않았습니다.\n",
    "\n",
    "이제 while 반복문을 보다 잘 이용할 수 있기를 바랍니다.\n",
    "\n",
    "** while 반복문을 사용할 때 무한 루프를 사용할 수도 있지만, 주의해서 사용하기 바랍니다 **"
   ]
  },
  {
   "cell_type": "code",
   "execution_count": null,
   "metadata": {},
   "outputs": [],
   "source": [
    "# DO NOT RUN THIS CODE!!!! \n",
    "while True:\n",
    "    print 'Uh Oh infinite Loop!'\n",
    "    "
   ]
  },
  {
   "cell_type": "code",
   "execution_count": null,
   "metadata": {
    "collapsed": true
   },
   "outputs": [],
   "source": []
  }
 ],
 "metadata": {
  "kernelspec": {
   "display_name": "Python 3",
   "language": "python",
   "name": "python3"
  },
  "language_info": {
   "codemirror_mode": {
    "name": "ipython",
    "version": 3
   },
   "file_extension": ".py",
   "mimetype": "text/x-python",
   "name": "python",
   "nbconvert_exporter": "python",
   "pygments_lexer": "ipython3",
   "version": "3.6.2"
  }
 },
 "nbformat": 4,
 "nbformat_minor": 1
}
