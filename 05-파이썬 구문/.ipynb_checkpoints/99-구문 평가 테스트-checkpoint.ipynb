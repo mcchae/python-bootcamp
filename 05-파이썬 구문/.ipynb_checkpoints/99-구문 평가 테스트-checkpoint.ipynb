{
 "cells": [
  {
   "cell_type": "markdown",
   "metadata": {
    "collapsed": true
   },
   "source": [
    "# 구문 평가 테스트"
   ]
  },
  {
   "cell_type": "markdown",
   "metadata": {},
   "source": [
    "_____\n",
    "** 다음의 문자열에 대하여 split() 메서드를 이용하여 단어로 나누고, 's'로 시작하는 단어를 출력해 보기:**"
   ]
  },
  {
   "cell_type": "code",
   "execution_count": 4,
   "metadata": {},
   "outputs": [],
   "source": [
    "st = 'Print only the words that start with s in this sentence'"
   ]
  },
  {
   "cell_type": "code",
   "execution_count": 5,
   "metadata": {},
   "outputs": [
    {
     "name": "stdout",
     "output_type": "stream",
     "text": [
      "start\n",
      "s\n",
      "sentence\n"
     ]
    }
   ],
   "source": [
    "for word in st.split():\n",
    "    if word[0] == 's':\n",
    "        print(word)"
   ]
  },
  {
   "cell_type": "markdown",
   "metadata": {},
   "source": [
    "______\n",
    "** range() 내장 함수를 이용하여 0부터 10까지의 정수 중, 짝수 목록 만들기 **"
   ]
  },
  {
   "cell_type": "code",
   "execution_count": 6,
   "metadata": {},
   "outputs": [
    {
     "data": {
      "text/plain": [
       "range(0, 11, 2)"
      ]
     },
     "execution_count": 6,
     "metadata": {},
     "output_type": "execute_result"
    }
   ],
   "source": [
    "range(0,11,2)"
   ]
  },
  {
   "cell_type": "markdown",
   "metadata": {},
   "source": [
    "___\n",
    "** 리스트 내포를 이용하여 1부터 50까지의 숫자 중에서 3의 배수만을 출력하는 목록 만들기 **"
   ]
  },
  {
   "cell_type": "code",
   "execution_count": 7,
   "metadata": {},
   "outputs": [
    {
     "data": {
      "text/plain": [
       "[3, 6, 9, 12, 15, 18, 21, 24, 27, 30, 33, 36, 39, 42, 45, 48]"
      ]
     },
     "execution_count": 7,
     "metadata": {},
     "output_type": "execute_result"
    }
   ],
   "source": [
    "[x for x in range(1,50) if x%3 == 0]"
   ]
  },
  {
   "cell_type": "markdown",
   "metadata": {},
   "source": [
    "_____\n",
    "** 다음 문장에서 각 단어를 나누었을 때 짝수개의 문자를 가진 단어만 출력하기 **"
   ]
  },
  {
   "cell_type": "code",
   "execution_count": 8,
   "metadata": {},
   "outputs": [],
   "source": [
    "st = 'Print every word in this sentence that has an even number of letters'"
   ]
  },
  {
   "cell_type": "code",
   "execution_count": 10,
   "metadata": {},
   "outputs": [
    {
     "name": "stdout",
     "output_type": "stream",
     "text": [
      "word <-- has an even length!\n",
      "in <-- has an even length!\n",
      "this <-- has an even length!\n",
      "sentence <-- has an even length!\n",
      "that <-- has an even length!\n",
      "an <-- has an even length!\n",
      "even <-- has an even length!\n",
      "number <-- has an even length!\n",
      "of <-- has an even length!\n"
     ]
    }
   ],
   "source": [
    "for word in st.split():\n",
    "    if len(word)%2 == 0:\n",
    "        print(word+\" <-- has an even length!\")"
   ]
  },
  {
   "cell_type": "markdown",
   "metadata": {},
   "source": [
    "____\n",
    "** 369 변종 게임: 1부터 50까지의 숫자를 출력하는데 3의 배수는 '응', 6의 배수는 '끙', 9의 배수는 '파'를 대신 출력 **"
   ]
  },
  {
   "cell_type": "code",
   "execution_count": 12,
   "metadata": {},
   "outputs": [
    {
     "name": "stdout",
     "output_type": "stream",
     "text": [
      "1\n",
      "2\n",
      "파\n",
      "4\n",
      "5\n",
      "끙\n",
      "7\n",
      "8\n",
      "파\n",
      "10\n",
      "11\n",
      "끙\n",
      "13\n",
      "14\n",
      "파\n",
      "16\n",
      "17\n",
      "파\n",
      "19\n",
      "20\n",
      "파\n",
      "22\n",
      "23\n",
      "끙\n",
      "25\n",
      "26\n",
      "파\n",
      "28\n",
      "29\n",
      "끙\n",
      "31\n",
      "32\n",
      "파\n",
      "34\n",
      "35\n",
      "파\n",
      "37\n",
      "38\n",
      "파\n",
      "40\n",
      "41\n",
      "끙\n",
      "43\n",
      "44\n",
      "파\n",
      "46\n",
      "47\n",
      "끙\n",
      "49\n",
      "50\n"
     ]
    }
   ],
   "source": [
    "for num in range(1,51):\n",
    "    if num % 9 == 0:\n",
    "        print(\"파\")\n",
    "    elif num % 6 == 0:\n",
    "        print(\"끙\")\n",
    "    elif num % 3 == 0:\n",
    "        print(\"파\")\n",
    "    else:\n",
    "        print(num)"
   ]
  },
  {
   "cell_type": "markdown",
   "metadata": {},
   "source": [
    "____\n",
    "** 아래의 문자열에 대하여 각 단어의 첫 글자만을 딴 목록을 리스트 내포로 만들기 **"
   ]
  },
  {
   "cell_type": "code",
   "execution_count": 13,
   "metadata": {},
   "outputs": [],
   "source": [
    "st = 'Create a list of the first letters of every word in this string'"
   ]
  },
  {
   "cell_type": "code",
   "execution_count": 14,
   "metadata": {},
   "outputs": [
    {
     "data": {
      "text/plain": [
       "['C', 'a', 'l', 'o', 't', 'f', 'l', 'o', 'e', 'w', 'i', 't', 's']"
      ]
     },
     "execution_count": 14,
     "metadata": {},
     "output_type": "execute_result"
    }
   ],
   "source": [
    "[word[0] for word in st.split()]"
   ]
  },
  {
   "cell_type": "markdown",
   "metadata": {},
   "source": [
    "### 수고하셨습니다!"
   ]
  },
  {
   "cell_type": "code",
   "execution_count": null,
   "metadata": {
    "collapsed": true
   },
   "outputs": [],
   "source": []
  }
 ],
 "metadata": {
  "kernelspec": {
   "display_name": "Python 3",
   "language": "python",
   "name": "python3"
  },
  "language_info": {
   "codemirror_mode": {
    "name": "ipython",
    "version": 3
   },
   "file_extension": ".py",
   "mimetype": "text/x-python",
   "name": "python",
   "nbconvert_exporter": "python",
   "pygments_lexer": "ipython3",
   "version": "3.6.2"
  }
 },
 "nbformat": 4,
 "nbformat_minor": 1
}
