{
 "cells": [
  {
   "cell_type": "markdown",
   "metadata": {},
   "source": [
    "# 파이썬 데코레이터\n",
    "\n",
    "데코레이터를 이야기 하기에 앞서 클래스를 좀 살펴보도록 하겠습니다."
   ]
  },
  {
   "cell_type": "markdown",
   "metadata": {},
   "source": [
    "파이썬에서 어떤 클래스에서 클래스 인스턴스 함수를 만들때는 항상\n",
    "첫번째 패러미터로 self가 옵니다.\n",
    "\n",
    "``` python\n",
    "myCls:\n",
    "\tmyF1(self, p1,p2):\n",
    "\t\tprint('in myF1(p1=\"%s\",p2=\"%s\")' % (p1,p2))\n",
    "```\n",
    "\n",
    "위와 같은 경우 myF1의 첫번째 패러미터로 항상 self가 옵니다.\n",
    "C++, C# 등에서와 같이 this 함수와 같은 의미로 이해하면 되겠지요.\n",
    "\n",
    "헌데 다른 OOP의 경우에서 myCls 클래스의 static 함수개념이 있을 수 있습니다.\n",
    "이런 경우는 \n",
    "\n",
    "```python\n",
    "myCls:\n",
    "\tmyF2(p1,p2):\n",
    "\t\tprint('in myF2(p1=\"%s\",p2=\"%s\")' % (p1,p2))\n",
    "```\n",
    "\n",
    "위의 myF2 함수와 같이 첫번째 패러미터로 self 가 존재하지 않습니다만,\n",
    "여전히 p1으로 self 개체가 넘어가는 오류가 발생합니다.\n",
    "이런 경우는\n",
    "\n",
    "```python\n",
    "myCls:\n",
    "\t@staticmethod\n",
    "\tmyF2(p1,p2):\n",
    "\t\tprint('in myF2(p1=\"%s\",p2=\"%s\")' % (p1,p2))\n",
    "```\n",
    "\n",
    "@staticmethod 라는 것을 이용하는데요,\n",
    "이런 식으로 함수 앞에다 무언가 @ 로 시작하는 무언가를 호출하는 것을\n",
    "파이썬에서 데코레이터라고 합니다."
   ]
  },
  {
   "cell_type": "markdown",
   "metadata": {},
   "source": [
    "[PEP (Python Enhancement Proposal) 318](https://www.python.org/dev/peps/pep-0318/)에서 제안되어 있습니다."
   ]
  },
  {
   "cell_type": "markdown",
   "metadata": {},
   "source": [
    "다음에는 다른 주제 이지만 get_param 이라는 함수의 패러미터를 확인해 보겠습니다."
   ]
  },
  {
   "cell_type": "code",
   "execution_count": 1,
   "metadata": {},
   "outputs": [],
   "source": [
    "#==========================================================================\n",
    "def get_param(*args, **kwargs):\n",
    "    sl = []\n",
    "    for arg in args:\n",
    "        if isinstance(arg,str):\n",
    "            sl.append('%s:\"%s\"' % (type(arg).__name__,arg))\n",
    "        else:\n",
    "            sl.append('%s:%s' % (type(arg).__name__, arg))\n",
    "    for k,v in kwargs.items():\n",
    "        if isinstance(v,str):\n",
    "            sl.append('%s=%s:\"%s\"' % (str(k),type(v).__name__,v))\n",
    "        else:\n",
    "            sl.append('%s=%s:%s' % (str(k),type(v).__name__,v))\n",
    "    return ','.join(sl)"
   ]
  },
  {
   "cell_type": "markdown",
   "metadata": {},
   "source": [
    "파이썬에서 모든 패러미터는 unnamed parameter와 named parameter로 구분되는데,\n",
    "모든 가변 변수는 위와 같이 (\\*args, \\*\\*kwargs) 로 모든 변수를 받아 볼 수 있습니다.\n",
    "위의 get_param은 그런 모든 패러미터를 출력하는 것입니다."
   ]
  },
  {
   "cell_type": "markdown",
   "metadata": {},
   "source": [
    "다음에는 또 다른 함수를 만들어 봅니다."
   ]
  },
  {
   "cell_type": "code",
   "execution_count": 2,
   "metadata": {},
   "outputs": [],
   "source": [
    "###############################################################################\n",
    "def entryExit(original_function):\n",
    "    def new_function(*args, **kwargs):\n",
    "        print(\">>>Entering\", original_function.__name__, '(%s)' % get_param(*args, **kwargs))\n",
    "        original_function(*args, **kwargs)\n",
    "        print(\"<<<Exited\", original_function.__name__)\n",
    "    return new_function"
   ]
  },
  {
   "cell_type": "markdown",
   "metadata": {},
   "source": [
    "패러미터로 받은 original_function은 함수 포인터와 유사한 개념이라고 할 때,\n",
    "그 안에 선언된 new_function은 일반 패러미터를 받아 출력하고 원본 함수를 다시 호출하는 것입니다."
   ]
  },
  {
   "cell_type": "markdown",
   "metadata": {},
   "source": [
    "드디어 데코레이터를 사용해 보겠습니다."
   ]
  },
  {
   "cell_type": "code",
   "execution_count": 3,
   "metadata": {},
   "outputs": [],
   "source": [
    "@entryExit\n",
    "def hello(targetName=None):\n",
    "    if targetName:\n",
    "        print(\"\\tHello, \" +  targetName +\"!\")\n",
    "    else:\n",
    "        print(\"\\tHello, world!\")"
   ]
  },
  {
   "cell_type": "markdown",
   "metadata": {},
   "source": [
    "또한 위와 같이 데코레이터를 가진 hello를 호출하면,"
   ]
  },
  {
   "cell_type": "code",
   "execution_count": 4,
   "metadata": {},
   "outputs": [
    {
     "name": "stdout",
     "output_type": "stream",
     "text": [
      ">>>Entering hello (str:\"Earth\")\n",
      "\tHello, Earth!\n",
      "<<<Exited hello\n"
     ]
    }
   ],
   "source": [
    "hello(\"Earth\")"
   ]
  },
  {
   "cell_type": "markdown",
   "metadata": {},
   "source": [
    "라고 결과가 나타납니다.\n",
    "\n",
    "어떤 패러미터를 넣던지 위와 유사한 결과를 나타내줍니다.\n",
    "위와 같은 것을 함수 데코레이터라 말합니다.\n",
    "\n",
    "다음은,"
   ]
  },
  {
   "cell_type": "code",
   "execution_count": 5,
   "metadata": {},
   "outputs": [],
   "source": [
    "class EntryExit(object):\n",
    "    def __init__(self, f):\n",
    "        self.f = f\n",
    "    def __call__(self, *args, **kwargs):\n",
    "        print(\">>>Entering\", self.f.__name__, '(%s)' % get_param(*args, **kwargs))\n",
    "        self.f(*args, **kwargs)\n",
    "        print(\"<<<Exited\", self.f.__name__)"
   ]
  },
  {
   "cell_type": "markdown",
   "metadata": {},
   "source": [
    "라는 클래스를 만들었습니다.\n",
    "\n",
    "생성자에 패러미터로 f 라는 함수 포인터가 있다고 가정하고,\n",
    "무언가가 호출될 때, __call__ 이 호출된다는 개념입니다.\n",
    "\n",
    "위와 같은 것을"
   ]
  },
  {
   "cell_type": "code",
   "execution_count": 6,
   "metadata": {},
   "outputs": [],
   "source": [
    "@EntryExit\n",
    "def func1(*args, **kwargs):\n",
    "    print(\"\\tinside func1(%s)\" % get_param(*args, **kwargs))"
   ]
  },
  {
   "cell_type": "markdown",
   "metadata": {},
   "source": [
    "라고 선언을 하고,\n",
    "\n",
    "다음과 같이 실행하면,"
   ]
  },
  {
   "cell_type": "code",
   "execution_count": 7,
   "metadata": {},
   "outputs": [
    {
     "name": "stdout",
     "output_type": "stream",
     "text": [
      ">>>Entering func1 (int:2,str:\"sss\",foo=str:\"baa\")\n",
      "\tinside func1(int:2,str:\"sss\",foo=str:\"baa\")\n",
      "<<<Exited func1\n"
     ]
    }
   ],
   "source": [
    "func1(2,'sss',foo='baa')"
   ]
  },
  {
   "cell_type": "markdown",
   "metadata": {},
   "source": [
    "위와 같은 entryExit와 같은 결과를 보여줍니다.\n",
    "이와 같은 데코레이터를 클래스 데코레이터라고 합니다.\n",
    "\n",
    "하지만 이는 클래스 안에서 self를 포함하여 호출할 때는 오류가 발생할 수 있습니다.\n",
    "다음과 같은 코드가 있습니다."
   ]
  },
  {
   "cell_type": "code",
   "execution_count": 8,
   "metadata": {},
   "outputs": [],
   "source": [
    "class myClass(object):\n",
    "    def myDecorator(original_function):\n",
    "        def new_function(self, *args, **kwargs):\n",
    "            print(\">>>Entering\", original_function.__name__, '(%s)' % get_param(*args, **kwargs))\n",
    "            original_function(self, *args, **kwargs)\n",
    "            print(\"<<<Exited\", original_function.__name__)\n",
    "        return new_function\n",
    "    @entryExit\n",
    "    def myFuncA(self, a, b, c='default'):\n",
    "        print('\\tmyFuncA(a=\"%s\",b=\"%s\",c=\"%s\")' % (a,b,c))\n",
    "    @myDecorator\n",
    "    def myFuncB(self, a, b, c='default'):\n",
    "        print('\\tmyFuncA(a=\"%s\",b=\"%s\",c=\"%s\")' % (a,b,c))"
   ]
  },
  {
   "cell_type": "markdown",
   "metadata": {},
   "source": [
    "그리고 다음처럼 클래스를 생성하고,"
   ]
  },
  {
   "cell_type": "code",
   "execution_count": 9,
   "metadata": {},
   "outputs": [],
   "source": [
    "mc = myClass()"
   ]
  },
  {
   "cell_type": "markdown",
   "metadata": {},
   "source": [
    "다음과 같이 호출하면,"
   ]
  },
  {
   "cell_type": "code",
   "execution_count": 10,
   "metadata": {},
   "outputs": [
    {
     "name": "stdout",
     "output_type": "stream",
     "text": [
      ">>>Entering myFuncA (myClass:<__main__.myClass object at 0x110e14630>,int:1,int:2)\n",
      "\tmyFuncA(a=\"1\",b=\"2\",c=\"default\")\n",
      "<<<Exited myFuncA\n"
     ]
    }
   ],
   "source": [
    "mc.myFuncA(1,2)"
   ]
  },
  {
   "cell_type": "markdown",
   "metadata": {},
   "source": [
    "위와 같이 self까지 넘어와서 잘 호출된 것을 확인할 수 있습니다.\n",
    "\n",
    "하지만,\n",
    "\n",
    "```python\n",
    "\t@EntryExit\n",
    "\tdef myFuncA(self, a, b, c='default'):\n",
    "\t\tprint('\\tmyFuncA(a=\"%s\",b=\"%s\",c=\"%s\")' % (a,b,c))\n",
    "```\n",
    "\n",
    "와 같이 @entryExit 대신 @EntryExit를 호출하면 self 를 넘길 수 없어 오류가 발생하는데,\n",
    "그와 같은 경우에는 위와 같이 self를 포함해서 넘기는 `myDecorator`와 같이 \n",
    "함수를 지정하면 잘 동작합니다."
   ]
  },
  {
   "cell_type": "code",
   "execution_count": 11,
   "metadata": {},
   "outputs": [
    {
     "name": "stdout",
     "output_type": "stream",
     "text": [
      ">>>Entering myFuncB (int:3,str:\"four\")\n",
      "\tmyFuncA(a=\"3\",b=\"four\",c=\"default\")\n",
      "<<<Exited myFuncB\n"
     ]
    }
   ],
   "source": [
    "mc.myFuncB(3,'four')"
   ]
  },
  {
   "cell_type": "markdown",
   "metadata": {},
   "source": [
    "이런 데코레이터를 이용하면 공통적인 공통적인 진입함수 또는  진출함수 등을 호출하는데 유용하게 이용될 수 있습니다."
   ]
  },
  {
   "cell_type": "code",
   "execution_count": null,
   "metadata": {},
   "outputs": [],
   "source": []
  }
 ],
 "metadata": {
  "kernelspec": {
   "display_name": "Python 3",
   "language": "python",
   "name": "python3"
  },
  "language_info": {
   "codemirror_mode": {
    "name": "ipython",
    "version": 3
   },
   "file_extension": ".py",
   "mimetype": "text/x-python",
   "name": "python",
   "nbconvert_exporter": "python",
   "pygments_lexer": "ipython3",
   "version": "3.6.2"
  }
 },
 "nbformat": 4,
 "nbformat_minor": 1
}
