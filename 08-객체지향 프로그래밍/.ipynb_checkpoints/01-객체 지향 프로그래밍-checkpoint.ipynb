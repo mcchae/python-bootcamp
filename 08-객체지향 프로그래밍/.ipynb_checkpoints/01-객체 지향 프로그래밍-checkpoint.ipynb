{
 "cells": [
  {
   "cell_type": "markdown",
   "metadata": {
    "collapsed": true
   },
   "source": [
    "# 객체 지향 프로그래밍 (Object Oriented Programming)\n",
    "\n",
    "객체 지향 프로그래밍(OOP)은 파이썬을 배우는 초심자들에게 어려울 수도 있는 부분입니다.\n",
    "\n",
    "그럼에도 불구하고 검색엔진 등에서 OOP로 검색을 해 보면 아주 많은 검색 결과가 나옵니다. 본 노트북을 진행하는 동안 필요한 온라인 튜토리얼은 별도 알려드리도록 하겠습니다.\n",
    "\n",
    "이번 레슨에서는 OOP에 대하여 다음과 같은 사항을 다룰 것입니다:\n",
    "\n",
    "* 객체(Objects)\n",
    "* *class* 키워드 사용\n",
    "* 클래스 속성(attribute) 생성\n",
    "* 클래스에서 메서드(methods) 생성\n",
    "* 상속(Inheritance)에 대한 공부\n",
    "* 클래스의 특별한 메서드에 대한 공부\n",
    "\n",
    "다음과 같이 파이썬의 기본 객체를 상기하며 시작해 보겠습니다."
   ]
  },
  {
   "cell_type": "code",
   "execution_count": 1,
   "metadata": {},
   "outputs": [],
   "source": [
    "l = [1,2,3]"
   ]
  },
  {
   "cell_type": "markdown",
   "metadata": {},
   "source": [
    "\n",
    "위와 같은 목록 객체에 대하여 메서드를 어떻게 호출했는지 기억해 봅시다."
   ]
  },
  {
   "cell_type": "code",
   "execution_count": 2,
   "metadata": {},
   "outputs": [
    {
     "data": {
      "text/plain": [
       "1"
      ]
     },
     "execution_count": 2,
     "metadata": {},
     "output_type": "execute_result"
    }
   ],
   "source": [
    "l.count(2)"
   ]
  },
  {
   "cell_type": "markdown",
   "metadata": {},
   "source": [
    "일단 기본적으로 목록과 같이 객체를 생성하는 방법에 대해 알아보도록 하겠습니다. 이전에 함수에 대해서는 이미 배웠고 객체에 대해서 살펴보겠습니다.\n",
    "\n",
    "## 객체(Objects)\n",
    "파이썬에서는 *모든 것이 객체* 입니다. 이전 배웠던 내용과 같이, type() 내장 함수를 이용해서 어떤 객체인지 파악할 수 있습니다:"
   ]
  },
  {
   "cell_type": "code",
   "execution_count": 4,
   "metadata": {},
   "outputs": [
    {
     "name": "stdout",
     "output_type": "stream",
     "text": [
      "<class 'int'>\n",
      "<class 'list'>\n",
      "<class 'tuple'>\n",
      "<class 'dict'>\n"
     ]
    }
   ],
   "source": [
    "print(type(1))\n",
    "print(type([]))\n",
    "print(type(()))\n",
    "print(type({}))"
   ]
  },
  {
   "cell_type": "markdown",
   "metadata": {},
   "source": [
    "위와 같이 모든 것은 객체임을 알았는데 과연 객체는 어떻게 만드는 것일까요? 이제 *class* 키워드에 대해 배워볼 차례입니다.\n",
    "\n",
    "\n",
    "## 클래스(class)\n",
    "개발자가 직접 만드는 객체는 *class* 키워드를 이용합니다. 클래스는 이후에 실제 객체로 어떻게 사용될 것인가를 정의하는 청사진과 같은 역할을 합니다. 이 객체에서 실제 개체(instances)를 만들어 냅니다. 개체(instance)는 클래스로 정의된 특정 객체로부터 만들어진 것입니다. 예를 들어, 위의 예에서처럼 'l' 변수에 할당된 것은 목록(list) 객체에서부터 만들어진 하나의 개체(instance)를 의미합니다.\n",
    "\n",
    "이제 어떻게 **class**를 이용하는지 살펴보겠습니다:"
   ]
  },
  {
   "cell_type": "code",
   "execution_count": 6,
   "metadata": {},
   "outputs": [
    {
     "name": "stdout",
     "output_type": "stream",
     "text": [
      "<class '__main__.Sample'>\n"
     ]
    }
   ],
   "source": [
    "# Create a new object type called Sample\n",
    "class Sample(object):\n",
    "    pass\n",
    "\n",
    "# Instance of Sample\n",
    "x = Sample()\n",
    "\n",
    "print(type(x))"
   ]
  },
  {
   "cell_type": "markdown",
   "metadata": {},
   "source": [
    "일반적으로 클래스명은 대문자로 시작합니다. 위의 예에서 x 변수는 Sample 클래스부터 만들어진 새로운 개체를 참조하고 있습니다. 다른 말로 Sample 객체의 **개체화(instantiate)**라고도 말합니다.\n",
    "\n",
    "위의 예에서 Sample 클래스의 실제 내용은 없습니다. (pass 키워드를 이용하였습니다) 하지만 실제 객체를 정의할 때에는 다음과 같이 속성 및 메서드를 정의하는 것이 일반적입니다.\n",
    "\n",
    "**속성(attribute)**은 특정 객체에서 어떤 속성이나 특성을 타나냅니다.\n",
    "**메서드(method)**는 특정 객체가 어떻게 동작하는지를 나타내는 객체의 함수라 생각하면 됩니다.\n",
    "\n",
    "예를 들어 Dog 라는 이름의 클래스를 생성해 봅니다. 그러면 그 개의 이름이나 품종 등을 나타내는 속성을 가지는 반면, .bark() 라는 메서드를 만들어 해당 개가 짖을 경우 그 결과의 소리를 리턴하는 메서드를 정의할 수 있습니다. ound.\n",
    "\n",
    "아래에 예를 들어 좀더 자세히 살펴보겠습니다.\n",
    "\n",
    "## 속성(Attributes)\n",
    "속성을 생성하는 것은 다음과 같습니다:\n",
    "    \n",
    "    self.attribute = something\n",
    "    \n",
    "그리고 다음과 같은 특별한 메서드가 있습니다:\n",
    "\n",
    "    __init__()\n",
    "\n",
    "위의 메서드는 객체화가 될 때 호출되는 메서드로 **생성자(Constructor)** 라고 불리기도 합니다.\n",
    "예를 들어:"
   ]
  },
  {
   "cell_type": "code",
   "execution_count": 7,
   "metadata": {},
   "outputs": [],
   "source": [
    "class Dog(object):\n",
    "    def __init__(self, breed):\n",
    "        self.breed = breed\n",
    "        \n",
    "sam = Dog(breed='Lab')\n",
    "frank = Dog(breed='Huskie')"
   ]
  },
  {
   "cell_type": "markdown",
   "metadata": {},
   "source": [
    "위의 예에서 보면, \n",
    "\n",
    "    def __init__(self, breed):\n",
    "    \n",
    "라고 특별한 메서드가 정의되어 있습니다. 메서드의 첫번째 패러미터는 *self* 가 등장합니다. 그 다음의 패러미터는 *breed* 라는 것이 나타납니다. 그러면 그 내용으로 다음과 같이 해당 개체의 속성(`self.breed`)으로 패러미터로 넘어온 `breed`를 지정합니다.\n",
    "\n",
    "     self.breed = breed"
   ]
  },
  {
   "cell_type": "markdown",
   "metadata": {},
   "source": [
    "위의 예에서는 Dos 객체를 정의하고 나서 *sam* 과 *frank* 라는 Dog 클래스의 개체(instance)를 생성했습니다. 생성할 떄는 self 패러미터는 없다고 생각하고 그 다음 패러미터인 breed를 정의하였습니다. 그러면 다음과 같이 해당 속성을 가져올 수 있습니다:"
   ]
  },
  {
   "cell_type": "code",
   "execution_count": 8,
   "metadata": {},
   "outputs": [
    {
     "data": {
      "text/plain": [
       "'Lab'"
      ]
     },
     "execution_count": 8,
     "metadata": {},
     "output_type": "execute_result"
    }
   ],
   "source": [
    "sam.breed"
   ]
  },
  {
   "cell_type": "code",
   "execution_count": 11,
   "metadata": {},
   "outputs": [
    {
     "data": {
      "text/plain": [
       "'Huskie'"
      ]
     },
     "execution_count": 11,
     "metadata": {},
     "output_type": "execute_result"
    }
   ],
   "source": [
    "frank.breed"
   ]
  },
  {
   "cell_type": "markdown",
   "metadata": {},
   "source": [
    "위의 예에서 *breed* 다음에 괄호가 없는 것을 주목하셔요. 메서드 처럼 패러미터를 받는 것이 아니기 때문에 속성은 괄호를 붙이지 않습니다.\n",
    "\n",
    "파이썬에서는 위와 같은 개체 속성 말고도 *클래스 객체 속성* 이라는 것도 있습니다. 일반 개체 속성과의 차이는 객체에서 만들어진 개별 개체에 대해 다 다른 속성을 가지는 대신, 모든 개체들이 동일한 하나의 속성을 가지도록 하는 것입니다. 예를 들어, Dog 클래스에 *species* 라는 클래스 객체 속성을 만들어 보겠습니다. 품종이나 이름에 상관없이 개는 항상 포유류이기 때문에 일반 개별 개체 속성 대신 클래스 속성으로 지정해 보았습니다.\n",
    "\n",
    "다음과 같은 방법으로 선언할 수 있습니다:"
   ]
  },
  {
   "cell_type": "code",
   "execution_count": 12,
   "metadata": {},
   "outputs": [],
   "source": [
    "class Dog(object):\n",
    "    \n",
    "    # Class Object Attribute\n",
    "    species = 'mammal'\n",
    "    \n",
    "    def __init__(self,breed,name):\n",
    "        self.breed = breed\n",
    "        self.name = name"
   ]
  },
  {
   "cell_type": "code",
   "execution_count": 13,
   "metadata": {},
   "outputs": [],
   "source": [
    "sam = Dog('Lab','Sam')"
   ]
  },
  {
   "cell_type": "code",
   "execution_count": 14,
   "metadata": {},
   "outputs": [
    {
     "data": {
      "text/plain": [
       "'Sam'"
      ]
     },
     "execution_count": 14,
     "metadata": {},
     "output_type": "execute_result"
    }
   ],
   "source": [
    "sam.name"
   ]
  },
  {
   "cell_type": "code",
   "execution_count": 15,
   "metadata": {},
   "outputs": [
    {
     "data": {
      "text/plain": [
       "'Lab'"
      ]
     },
     "execution_count": 15,
     "metadata": {},
     "output_type": "execute_result"
    }
   ],
   "source": [
    "sam.breed"
   ]
  },
  {
   "cell_type": "markdown",
   "metadata": {},
   "source": [
    "클래스 객체 속성은 클래스 정의에서 메서드 밖에 정의하게 되어 있습니다. 그리고 일반적으로 __init__ 라는 첫번째 메서드를 정의하기 이전에 위치하는게 일반적입니다."
   ]
  },
  {
   "cell_type": "code",
   "execution_count": 16,
   "metadata": {},
   "outputs": [
    {
     "data": {
      "text/plain": [
       "'mammal'"
      ]
     },
     "execution_count": 16,
     "metadata": {},
     "output_type": "execute_result"
    }
   ],
   "source": [
    "sam.species"
   ]
  },
  {
   "cell_type": "code",
   "execution_count": 17,
   "metadata": {},
   "outputs": [],
   "source": [
    "happy = Dog('푸들', '행운이')"
   ]
  },
  {
   "cell_type": "code",
   "execution_count": 18,
   "metadata": {},
   "outputs": [
    {
     "data": {
      "text/plain": [
       "'행운이'"
      ]
     },
     "execution_count": 18,
     "metadata": {},
     "output_type": "execute_result"
    }
   ],
   "source": [
    "happy.name"
   ]
  },
  {
   "cell_type": "code",
   "execution_count": 19,
   "metadata": {},
   "outputs": [
    {
     "data": {
      "text/plain": [
       "'푸들'"
      ]
     },
     "execution_count": 19,
     "metadata": {},
     "output_type": "execute_result"
    }
   ],
   "source": [
    "happy.breed"
   ]
  },
  {
   "cell_type": "code",
   "execution_count": 20,
   "metadata": {},
   "outputs": [
    {
     "data": {
      "text/plain": [
       "'mammal'"
      ]
     },
     "execution_count": 20,
     "metadata": {},
     "output_type": "execute_result"
    }
   ],
   "source": [
    "happy.species"
   ]
  },
  {
   "cell_type": "code",
   "execution_count": 22,
   "metadata": {},
   "outputs": [],
   "source": [
    "happy.species = '포유류'"
   ]
  },
  {
   "cell_type": "code",
   "execution_count": 27,
   "metadata": {},
   "outputs": [
    {
     "data": {
      "text/plain": [
       "'포유류'"
      ]
     },
     "execution_count": 27,
     "metadata": {},
     "output_type": "execute_result"
    }
   ],
   "source": [
    "sam.species"
   ]
  },
  {
   "cell_type": "code",
   "execution_count": 28,
   "metadata": {},
   "outputs": [],
   "source": [
    "Dog.species = '포유류'"
   ]
  },
  {
   "cell_type": "code",
   "execution_count": 29,
   "metadata": {},
   "outputs": [
    {
     "data": {
      "text/plain": [
       "'포유류'"
      ]
     },
     "execution_count": 29,
     "metadata": {},
     "output_type": "execute_result"
    }
   ],
   "source": [
    "sam.species"
   ]
  },
  {
   "cell_type": "markdown",
   "metadata": {},
   "source": [
    "## 메서드(Methods)\n",
    "\n",
    "메서드는 클래스의 내부에 정의되어 있는 함수라고 말할 수 있습니다. 또한 객체의 속성을 이용한 일련의 동작을 수행하도록 되어 있습니다. 메서드는 OOP 개발 방법론에 있어 캡슐화(encapsulation) 개념에 있어 필수적입니다. 특히 아주 큰 응용 프로그램에서  각각의 역할을 분담할 수 있게 하는데 있어 필수입니다.\n",
    "\n",
    "메서드는 *self* 아규먼트를 받아 이를 개체로 인식하고 함수로 동작한다고 생각하면 됩니다.\n",
    "\n",
    "다음의 Circle 클래스를 예로 살펴보겠습니다:"
   ]
  },
  {
   "cell_type": "code",
   "execution_count": 30,
   "metadata": {},
   "outputs": [
    {
     "name": "stdout",
     "output_type": "stream",
     "text": [
      "Radius is:  2\n",
      "Area is:  12.56\n"
     ]
    }
   ],
   "source": [
    "class Circle(object):\n",
    "    pi = 3.14\n",
    "\n",
    "    # Circle get instantiated with a radius (default is 1)\n",
    "    def __init__(self, radius=1):\n",
    "        self.radius = radius \n",
    "\n",
    "    # Area method calculates the area. Note the use of self.\n",
    "    def area(self):\n",
    "        return self.radius * self.radius * Circle.pi\n",
    "\n",
    "    # Method for resetting Radius\n",
    "    def setRadius(self, radius):\n",
    "        self.radius = radius\n",
    "\n",
    "    # Method for getting radius (Same as just calling .radius)\n",
    "    def getRadius(self):\n",
    "        return self.radius\n",
    "\n",
    "\n",
    "c = Circle()\n",
    "\n",
    "c.setRadius(2)\n",
    "print('Radius is: ',c.getRadius())\n",
    "print('Area is: ',c.area())"
   ]
  },
  {
   "cell_type": "markdown",
   "metadata": {},
   "source": [
    "클래스 안에 정의된 메서드에서 개체 속성을 사용하기 위하여 어떻게 self가 쓰였는지 보셨지요? \n",
    "\n",
    "## 상속(Inheritance)\n",
    "\n",
    "상속은 이미 정의되어 있는 클래스를 이용하여 새로운 클래스를 정의하는 방법입니다. 이때 새로 만들어지는 클래스는 파생 클래스라 하며, 이미 정의되어 있는 클래스를 베이스 클래스라고 합니다. 상속을 사용하는 가장 큰 이유는 기존 클래스의 재사용과 더불어 해당 복잡성을 줄이는 것입니다. 항상 클래스를 정의하고 사용하다 보면 자신이 만든 클래스가 다른 사람이 베이스로 상속할 수 있다고 가정하는게 좋습니다. 그러면 블랙박스로 해당 기능이 속에서 어떻게 동작하는지 몰라도 해당 기능(메서드)만 이용할 수 있습니다. 파생(자식) 클래스는 베이스(부모) 클래스의 특정 기능만 다른 의미로 사용하거나 확장시킬 수 있습니다.\n",
    "\n",
    "다음의 예로 상속에 대해 살펴보지요:"
   ]
  },
  {
   "cell_type": "code",
   "execution_count": 32,
   "metadata": {},
   "outputs": [],
   "source": [
    "class Animal(object):\n",
    "    def __init__(self):\n",
    "        print(\"Animal created\")\n",
    "\n",
    "    def whoAmI(self):\n",
    "        print(\"Animal\")\n",
    "\n",
    "    def eat(self):\n",
    "        print(\"Eating\")\n",
    "\n",
    "\n",
    "class Dog(Animal):\n",
    "    def __init__(self):\n",
    "        Animal.__init__(self)\n",
    "        print(\"Dog created\")\n",
    "\n",
    "    def whoAmI(self):\n",
    "        print(\"Dog\")\n",
    "\n",
    "    def bark(self):\n",
    "        print(\"Woof!\")"
   ]
  },
  {
   "cell_type": "code",
   "execution_count": 33,
   "metadata": {},
   "outputs": [
    {
     "name": "stdout",
     "output_type": "stream",
     "text": [
      "Animal created\n",
      "Dog created\n"
     ]
    }
   ],
   "source": [
    "d = Dog()"
   ]
  },
  {
   "cell_type": "code",
   "execution_count": 34,
   "metadata": {},
   "outputs": [
    {
     "name": "stdout",
     "output_type": "stream",
     "text": [
      "Dog\n"
     ]
    }
   ],
   "source": [
    "d.whoAmI()"
   ]
  },
  {
   "cell_type": "code",
   "execution_count": 35,
   "metadata": {},
   "outputs": [
    {
     "name": "stdout",
     "output_type": "stream",
     "text": [
      "Eating\n"
     ]
    }
   ],
   "source": [
    "d.eat()"
   ]
  },
  {
   "cell_type": "code",
   "execution_count": 36,
   "metadata": {},
   "outputs": [
    {
     "name": "stdout",
     "output_type": "stream",
     "text": [
      "Woof!\n"
     ]
    }
   ],
   "source": [
    "d.bark()"
   ]
  },
  {
   "cell_type": "markdown",
   "metadata": {},
   "source": [
    "위의 예에서 두개의 클래스 Animal 과 Dog 클래스가 등장했습니다. Animal은 베이스 클래스이고, Dog는 파생 클래스 입니다.\n",
    "\n",
    "파생 클래스는 베이스 클래스의 기능을 상속받습니다.\n",
    "\n",
    "* 파생클래스에 없는 eat() 메서드를 호출하면 베이스 클래스의 eat() 메서드를 호출. \n",
    "\n",
    "베이스 클래스에 있지만 파생 클래스에도 동일한 이름의 메서드를 재정의(Override)하여 기능을 확장할 수 있습니다. \n",
    "\n",
    "* whoAmI() 메서드는 베이스 클래스에 있었지만 파생 클래스에도 있으므로 베이스가 아닌 파생 클래스의 메서드 호출.\n",
    "\n",
    "마지막으로 베이스 클래스에는 없지만 파생 클래스에서 새로운 메서드를 만들 수도 있습니다.\n",
    "\n",
    "* bark() 메서드는 베이스 클래스에 없지만 파생 클래스에 새로 정의되었습니다."
   ]
  },
  {
   "cell_type": "markdown",
   "metadata": {},
   "source": [
    "## 특별 메서드\n",
    "\n",
    "마지막으로 특별 메서드에 관하여 살펴보겠습니다. 파이썬에서 클래스는 특별한 이름을 갖는 (일반적으로 앞 뒤에 두 개의 '_' 가 붙어 있습니다) 메서드가 있습니다. 이런 메서드는 바로 호출하지 않고 파이썬이 구동하면서 특별한 방법으로 호출됩니다.\n",
    "\n",
    "다음과 같은 Book 클래스로 확인해 봅니다:"
   ]
  },
  {
   "cell_type": "code",
   "execution_count": 37,
   "metadata": {},
   "outputs": [],
   "source": [
    "class Book(object):\n",
    "    def __init__(self, title, author, pages):\n",
    "        print(\"A book is created\")\n",
    "        self.title = title\n",
    "        self.author = author\n",
    "        self.pages = pages\n",
    "\n",
    "    def __str__(self):\n",
    "        return \"Title:%s , author:%s, pages:%s \" %(self.title, self.author, self.pages)\n",
    "\n",
    "    def __len__(self):\n",
    "        return self.pages\n",
    "\n",
    "    def __del__(self):\n",
    "        print(\"A book is destroyed\")"
   ]
  },
  {
   "cell_type": "code",
   "execution_count": 39,
   "metadata": {},
   "outputs": [
    {
     "name": "stdout",
     "output_type": "stream",
     "text": [
      "A book is created\n",
      "Title:Python Rocks! , author:Jose Portilla, pages:159 \n",
      "159\n",
      "A book is destroyed\n"
     ]
    }
   ],
   "source": [
    "book = Book(\"Python Rocks!\", \"Jose Portilla\", 159)\n",
    "\n",
    "#Special Methods\n",
    "print(book)\n",
    "print(len(book))\n",
    "del book"
   ]
  },
  {
   "cell_type": "markdown",
   "metadata": {},
   "source": [
    "    __init__(), __str__(), __len__(), __del__() 과 같은 특별 메서드가 등장합니다.\n",
    "\n",
    "일단 앞뒤로 두 개의 '_' 가 붙으면 특별 메서드로 생각하면 됩니다.\n",
    "\n",
    "** 잘 하셨습니다! 이제 기본적인 클래스 및 상속 등에 관하여 알아보았습니다. 다음에 이정표에서 더 자세히 이용해 볼 기회가 있습니다.**\n",
    "\n",
    "OOP에 관한 더 자세한 내용을 확인하려면 다음과 같은 내용을 참고하셔요:\n",
    "\n",
    "[Jeff Knupp's Post](https://www.jeffknupp.com/blog/2014/06/18/improve-your-python-python-classes-and-object-oriented-programming/)\n",
    "\n",
    "[Mozilla's Post](https://developer.mozilla.org/en-US/Learn/Python/Quickly_Learn_Object_Oriented_Programming)\n",
    "\n",
    "[Tutorial's Point](http://www.tutorialspoint.com/python/python_classes_objects.htm)\n",
    "\n",
    "[Official Documentation](https://docs.python.org/2/tutorial/classes.html)"
   ]
  },
  {
   "cell_type": "code",
   "execution_count": null,
   "metadata": {
    "collapsed": true
   },
   "outputs": [],
   "source": []
  }
 ],
 "metadata": {
  "kernelspec": {
   "display_name": "Python 3",
   "language": "python",
   "name": "python3"
  },
  "language_info": {
   "codemirror_mode": {
    "name": "ipython",
    "version": 3
   },
   "file_extension": ".py",
   "mimetype": "text/x-python",
   "name": "python",
   "nbconvert_exporter": "python",
   "pygments_lexer": "ipython3",
   "version": "3.6.2"
  }
 },
 "nbformat": 4,
 "nbformat_minor": 1
}
