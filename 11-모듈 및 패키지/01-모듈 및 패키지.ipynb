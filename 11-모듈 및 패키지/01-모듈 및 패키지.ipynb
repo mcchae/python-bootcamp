{
 "cells": [
  {
   "cell_type": "markdown",
   "metadata": {},
   "source": [
    "# 모듈 및 패키지\n",
    "\n",
    "모듈과 패키지 부분에서는 특별히 관련 소스는 없고 간단한 설명으로 대신합니다. 언제나 그렇듯 파이썬 공식 설명을 제일 먼저 참조하는 것이 좋습니다.\n",
    "\n",
    "https://docs.python.org/3/tutorial/modules.html#packages\n",
    "\n",
    "다음과 같은 보조 설명도 필요합니다:"
   ]
  },
  {
   "cell_type": "markdown",
   "metadata": {},
   "source": [
    "파이썬의 모듈은 일련의 함수 및 클래스로 표현된 .py 확장자를 가진 파이썬 파일이라 정의될 수 있습니다. 이런 모듈은 다른 파이썬 모듈에서 `import` 명령으로 불러와서 사용할 수 있습니다.\n",
    "\n",
    "파이썬의 표준 라이브러리에는 이미 바로 사용 가능한 수많은 모듈을 포함하고 있으므로 해당 문서를 참조하는 것이 좋습니다.\n",
    "\n",
    "파이썬 스크립트를 수행할 때 어떤 모듈을 불러온다는 것은 해당 모듈이 한번은 수행된다는 것을 의미합니다. 만약 또 다른 모듈이 이미 불러온 모듈을 한번 더 불러오려고 하여도 해당 모듈은 다시 불러오지 않습니다. 이것은 모듈안에 있는 로컬 변수는 최초 한번만 초기화 되기 때문에 **\"싱글톤\"** 으로 사용될 수 있습니다.\n",
    "\n",
    "만약 우리가 수학연산을 위하여 math 모듈을 사용한다면:"
   ]
  },
  {
   "cell_type": "code",
   "execution_count": 1,
   "metadata": {},
   "outputs": [],
   "source": [
    "# import the library\n",
    "import math"
   ]
  },
  {
   "cell_type": "code",
   "execution_count": 2,
   "metadata": {},
   "outputs": [
    {
     "data": {
      "text/plain": [
       "'/Users/mcchae/.pyenv/versions/3.6.2/lib/python3.6/lib-dynload/math.cpython-36m-darwin.so'"
      ]
     },
     "execution_count": 2,
     "metadata": {},
     "output_type": "execute_result"
    }
   ],
   "source": [
    "math.__file__"
   ]
  },
  {
   "cell_type": "code",
   "execution_count": 3,
   "metadata": {},
   "outputs": [
    {
     "data": {
      "text/plain": [
       "module"
      ]
     },
     "execution_count": 3,
     "metadata": {},
     "output_type": "execute_result"
    }
   ],
   "source": [
    "type(math)"
   ]
  },
  {
   "cell_type": "code",
   "execution_count": 4,
   "metadata": {},
   "outputs": [
    {
     "data": {
      "text/plain": [
       "['__doc__',\n",
       " '__file__',\n",
       " '__loader__',\n",
       " '__name__',\n",
       " '__package__',\n",
       " '__spec__',\n",
       " 'acos',\n",
       " 'acosh',\n",
       " 'asin',\n",
       " 'asinh',\n",
       " 'atan',\n",
       " 'atan2',\n",
       " 'atanh',\n",
       " 'ceil',\n",
       " 'copysign',\n",
       " 'cos',\n",
       " 'cosh',\n",
       " 'degrees',\n",
       " 'e',\n",
       " 'erf',\n",
       " 'erfc',\n",
       " 'exp',\n",
       " 'expm1',\n",
       " 'fabs',\n",
       " 'factorial',\n",
       " 'floor',\n",
       " 'fmod',\n",
       " 'frexp',\n",
       " 'fsum',\n",
       " 'gamma',\n",
       " 'gcd',\n",
       " 'hypot',\n",
       " 'inf',\n",
       " 'isclose',\n",
       " 'isfinite',\n",
       " 'isinf',\n",
       " 'isnan',\n",
       " 'ldexp',\n",
       " 'lgamma',\n",
       " 'log',\n",
       " 'log10',\n",
       " 'log1p',\n",
       " 'log2',\n",
       " 'modf',\n",
       " 'nan',\n",
       " 'pi',\n",
       " 'pow',\n",
       " 'radians',\n",
       " 'sin',\n",
       " 'sinh',\n",
       " 'sqrt',\n",
       " 'tan',\n",
       " 'tanh',\n",
       " 'tau',\n",
       " 'trunc']"
      ]
     },
     "execution_count": 4,
     "metadata": {},
     "output_type": "execute_result"
    }
   ],
   "source": [
    "dir(math)"
   ]
  },
  {
   "cell_type": "code",
   "execution_count": 5,
   "metadata": {},
   "outputs": [
    {
     "data": {
      "text/plain": [
       "builtin_function_or_method"
      ]
     },
     "execution_count": 5,
     "metadata": {},
     "output_type": "execute_result"
    }
   ],
   "source": [
    "type(math.ceil)"
   ]
  },
  {
   "cell_type": "code",
   "execution_count": 6,
   "metadata": {},
   "outputs": [
    {
     "data": {
      "text/plain": [
       "3"
      ]
     },
     "execution_count": 6,
     "metadata": {},
     "output_type": "execute_result"
    }
   ],
   "source": [
    "# use it (ceiling rounding)\n",
    "math.ceil(2.4)"
   ]
  },
  {
   "cell_type": "markdown",
   "metadata": {},
   "source": [
    "## 내장 모듈 살펴보기\n",
    "\n",
    "해당 모듈을 살펴보는 방법으로 `dir`과 `help` 함수가 있습니다.\n",
    "\n",
    "각 모듈에 대하여 dir 함수를 적용해보면 어떤 함수나 속성을 가지고 있는지 확인 할 수 있습니다:"
   ]
  },
  {
   "cell_type": "code",
   "execution_count": 7,
   "metadata": {},
   "outputs": [
    {
     "name": "stdout",
     "output_type": "stream",
     "text": [
      "['__doc__', '__file__', '__loader__', '__name__', '__package__', '__spec__', 'acos', 'acosh', 'asin', 'asinh', 'atan', 'atan2', 'atanh', 'ceil', 'copysign', 'cos', 'cosh', 'degrees', 'e', 'erf', 'erfc', 'exp', 'expm1', 'fabs', 'factorial', 'floor', 'fmod', 'frexp', 'fsum', 'gamma', 'gcd', 'hypot', 'inf', 'isclose', 'isfinite', 'isinf', 'isnan', 'ldexp', 'lgamma', 'log', 'log10', 'log1p', 'log2', 'modf', 'nan', 'pi', 'pow', 'radians', 'sin', 'sinh', 'sqrt', 'tan', 'tanh', 'tau', 'trunc']\n"
     ]
    }
   ],
   "source": [
    "print(dir(math))"
   ]
  },
  {
   "cell_type": "markdown",
   "metadata": {},
   "source": [
    "만약 해당 함수에 대하여 더 자세한 설명을 구해보려면 help 함수를 이용해 보면 됩니다. (실제로 pydoc 의 결과와 동일한 해당 모듈 내용의 doc string을 보여줍니다):\n"
   ]
  },
  {
   "cell_type": "code",
   "execution_count": 8,
   "metadata": {},
   "outputs": [
    {
     "name": "stdout",
     "output_type": "stream",
     "text": [
      "Help on built-in function ceil in module math:\n",
      "\n",
      "ceil(...)\n",
      "    ceil(x)\n",
      "    \n",
      "    Return the ceiling of x as an Integral.\n",
      "    This is the smallest integer >= x.\n",
      "\n"
     ]
    }
   ],
   "source": [
    "help(math.ceil)"
   ]
  },
  {
   "cell_type": "code",
   "execution_count": 9,
   "metadata": {},
   "outputs": [
    {
     "data": {
      "text/plain": [
       "['__call__',\n",
       " '__class__',\n",
       " '__delattr__',\n",
       " '__dir__',\n",
       " '__doc__',\n",
       " '__eq__',\n",
       " '__format__',\n",
       " '__ge__',\n",
       " '__getattribute__',\n",
       " '__gt__',\n",
       " '__hash__',\n",
       " '__init__',\n",
       " '__init_subclass__',\n",
       " '__le__',\n",
       " '__lt__',\n",
       " '__module__',\n",
       " '__name__',\n",
       " '__ne__',\n",
       " '__new__',\n",
       " '__qualname__',\n",
       " '__reduce__',\n",
       " '__reduce_ex__',\n",
       " '__repr__',\n",
       " '__self__',\n",
       " '__setattr__',\n",
       " '__sizeof__',\n",
       " '__str__',\n",
       " '__subclasshook__',\n",
       " '__text_signature__']"
      ]
     },
     "execution_count": 9,
     "metadata": {},
     "output_type": "execute_result"
    }
   ],
   "source": [
    "dir(math.ceil)"
   ]
  },
  {
   "cell_type": "code",
   "execution_count": 10,
   "metadata": {},
   "outputs": [
    {
     "data": {
      "text/plain": [
       "'ceil(x)\\n\\nReturn the ceiling of x as an Integral.\\nThis is the smallest integer >= x.'"
      ]
     },
     "execution_count": 10,
     "metadata": {},
     "output_type": "execute_result"
    }
   ],
   "source": [
    "math.ceil.__doc__"
   ]
  },
  {
   "cell_type": "markdown",
   "metadata": {},
   "source": [
    "## 모듈 작성\n",
    "\n",
    "파이썬 모듈을 만드는 것은 아주 쉽습니다. 단지 모듈이름을 갖고 확장자는 .py 인 파일을 작성하면 됩니다. 그 이후 다른 곳에서 해당 모듈 이름으로 (.py 확장자 없이) import 다음에 써서 불러오면 됩니다.\n",
    "\n",
    "## 패키지 작성\n",
    "\n",
    "패키지는 여러 모듈을 트리 형식의 구조로 포함하도록 하는 name-space 입니다. 이런 트리는 간단하게 디렉터리 구조와 동일합니다.\n",
    "\n",
    "파이썬의 패키지는 이런 디렉터리 구조라 하였는데 각각의 디렉터리에는 **\\__init\\__.py**라는 특별한 파이썬 파일이 존재합니다. 이것은 파이썬이 해당 디렉터리가 파이썬 패키지라고 인식하는 것으로 빈 파일로 만들어 놓으면 됩니다. (나중에 필요에 따라 내용을 너 넣을 수 있습니다)\n",
    "\n",
    "만약 foo 라는 이름의 패키지 가 있다면 그 안에 bar 라는 이름의 모듈을 만들 수 있습니다. 이것은 foo 라는 디렉터리가 있고 그 안에는 패키지를 나타내는 **\\__init\\__.py** 라는 파일이 있습니다. 또한 bar.py 라는 모듈이 있다는 것을 의미합니다.\n",
    "\n",
    "bar 라는 모듈을 이용하기 위하여 다음과 같은 두 가지 방법으로 가져와서 사용할 수 있습니다."
   ]
  },
  {
   "cell_type": "code",
   "execution_count": 11,
   "metadata": {},
   "outputs": [
    {
     "name": "stdout",
     "output_type": "stream",
     "text": [
      "bar.py\n"
     ]
    }
   ],
   "source": [
    "# Just an example, this won't work\n",
    "import foo.bar"
   ]
  },
  {
   "cell_type": "code",
   "execution_count": 12,
   "metadata": {},
   "outputs": [
    {
     "name": "stdout",
     "output_type": "stream",
     "text": [
      "abc\n"
     ]
    }
   ],
   "source": [
    "foo.bar.mybar('abc')"
   ]
  },
  {
   "cell_type": "code",
   "execution_count": 13,
   "metadata": {},
   "outputs": [],
   "source": [
    "# OR could do it this way\n",
    "from foo import bar"
   ]
  },
  {
   "cell_type": "code",
   "execution_count": 14,
   "metadata": {},
   "outputs": [
    {
     "name": "stdout",
     "output_type": "stream",
     "text": [
      "def\n"
     ]
    }
   ],
   "source": [
    "bar.mybar('def')"
   ]
  },
  {
   "cell_type": "markdown",
   "metadata": {},
   "source": [
    "만약 `import foo.bar` 와 같이 가져오기를 하였다면 해당 bar 모듈 안의 상수, 함수 또는 클래스 등을 이용하기 위하여 `foo.bar.ooo` 과 같이 앞에 ***foo.bar***를 붙여야 하고 `from foo import bar`와 같이 **from**을 통한 가져오기를 하였을 경우에는 해당 ***bar.ooo*** 와 같이 사용하면됩니다. 각각의 차이는 이름 영역을 어떻게 가져다 이용하는 가가 틀릴 따름입니다.\n",
    "\n",
    "위에서 **\\__init\\__.py** 파일에 어떤 내용을 넣을 수도 있다고 언급하였는데, 예를 들어 **\\__all\\__** 변수에 특정 모듈 들을 지정해 주면, 디폴트로 모든 `*.py` 확장자를 모듈로 이용하는 대신 해당 모듈만이 패키지에 모듈로 포함됩니다."
   ]
  },
  {
   "cell_type": "markdown",
   "metadata": {},
   "source": [
    "__init__.py:\n",
    "\n",
    "__all__ = [\"bar\"]"
   ]
  },
  {
   "cell_type": "code",
   "execution_count": null,
   "metadata": {
    "collapsed": true
   },
   "outputs": [],
   "source": []
  }
 ],
 "metadata": {
  "kernelspec": {
   "display_name": "Python 3",
   "language": "python",
   "name": "python3"
  },
  "language_info": {
   "codemirror_mode": {
    "name": "ipython",
    "version": 3
   },
   "file_extension": ".py",
   "mimetype": "text/x-python",
   "name": "python",
   "nbconvert_exporter": "python",
   "pygments_lexer": "ipython3",
   "version": "3.6.2"
  }
 },
 "nbformat": 4,
 "nbformat_minor": 1
}
