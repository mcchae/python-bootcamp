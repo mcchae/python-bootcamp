{
 "cells": [
  {
   "cell_type": "markdown",
   "metadata": {},
   "source": [
    "# 중첩문과 스코프(Scope)\n",
    "\n",
    "이제부터는 함수를 만들어 사용해 볼 수 있기 때문에 변수를 이용하는 것에 대해 좀 더 자세히 알아보겠습니다. 파이썬에서 변수를 새롭게 추가하면 *name-space* 라는 곳에 저장됩니다. 변수명은 또한 *스코프*라는 것을 갖는데 이는 코드에서 어느 정도의 영향을 끼치는가 등에 관한 문제 입니다.\n",
    "\n",
    "아래와 같은 예를 확인해 봅니다."
   ]
  },
  {
   "cell_type": "code",
   "execution_count": 1,
   "metadata": {},
   "outputs": [],
   "source": [
    "x = 25\n",
    "\n",
    "def printer():\n",
    "    x = 50\n",
    "    return x\n",
    "\n",
    "#print(x)\n",
    "#print(printer())"
   ]
  },
  {
   "cell_type": "markdown",
   "metadata": {},
   "source": [
    "위의 코드에서 보면 x 라는 이름의 변수가 첫줄에서도 등장하고 printer()라는 함수안에도 등장합니다. x를 출력하거나 printer()를 호출하여 그 안에서 x를 출력하면 25와 50 중에서 과연 어떤 것이 출력될까요?"
   ]
  },
  {
   "cell_type": "code",
   "execution_count": 2,
   "metadata": {},
   "outputs": [
    {
     "name": "stdout",
     "output_type": "stream",
     "text": [
      "25\n"
     ]
    }
   ],
   "source": [
    "print(x)"
   ]
  },
  {
   "cell_type": "code",
   "execution_count": 3,
   "metadata": {},
   "outputs": [
    {
     "name": "stdout",
     "output_type": "stream",
     "text": [
      "50\n"
     ]
    }
   ],
   "source": [
    "print(printer())"
   ]
  },
  {
   "cell_type": "code",
   "execution_count": 4,
   "metadata": {},
   "outputs": [
    {
     "name": "stdout",
     "output_type": "stream",
     "text": [
      "25\n"
     ]
    }
   ],
   "source": [
    "print(x)"
   ]
  },
  {
   "cell_type": "markdown",
   "metadata": {},
   "source": [
    "흥미롭지요! 파이썬에서 **x**는 과연 어떤 것을 참조할까요? 이 부분이 바로 스코프라는 개념이 적용되는 순간입니다. 파이썬은 코드에서 동일 이름의 변수명이 사용될 때 그것을 참조하는 일정 규칙을 가지고 있습니다.\n",
    "\n",
    "다음과 같이 자세히 살펴봅니다."
   ]
  },
  {
   "cell_type": "markdown",
   "metadata": {
    "collapsed": true
   },
   "source": [
    "스코프라는 개념을 이용하여 적절히 변수를 할당하고 호출하는 것을 이해하는 것은 매우 중요합니다.\n",
    "\n",
    "간단히 이야기하면 아래와 같은 세가지 규칙이 존재합니다.\n",
    "\n",
    "1. 변수를 할당하면 **local**에 생성하거나 변경합니다.\n",
    "2. 변수 참조 스코프는 다음과 같은 네가지 경우가 있습니다.\n",
    "    * local\n",
    "    * enclosing functions\n",
    "    * global\n",
    "    * built-in\n",
    "3. **global** 과 **nonlocal** 문장은 *enclosing module* 과 *함수* 스코프 문장에 매핑됩니다.\n",
    "\n",
    "\n",
    "위의 규칙을 LEGB 규칙이라고 합니다.\n",
    "\n",
    "**LEGB 규칙.**\n",
    "\n",
    "L: 로컬 — 함수 (def 또는 lambda))에 정의된 변수, global로 정의되지 않음\n",
    "\n",
    "E: 상위 함수의 로컬 — 아래의 예에서 처럼\n",
    "\n",
    "```\n",
    "def parent_function():\n",
    "    y=10\n",
    "    def child_function():\n",
    "        print(y)\n",
    "    child_function()\n",
    "```\n",
    "child_function 입장에서 y는 글로벌 같지만 결국은 자신을 감싸고 있는 상위 함수인 parent_functon 에 정의된 로컬 변수입니다. 만약 child_function에도 y가 대입문에 사용되었다면 이는 로컬이었겠지만 위와 같은 경우에 해당되는 스코프\n",
    "\n",
    "G: Global (모듈) — 모듈의 최상위에 나타나는 대입문 또는 모듈 파일의 함수 안에 global로 선언되어 있는 변수\n",
    "\n",
    "B: Built-in (파이썬) — 기타 시스템에서 미리 정의된 내장 함수: open, range, SyntaxError,..."
   ]
  },
  {
   "cell_type": "markdown",
   "metadata": {},
   "source": [
    "## LEGB 간단한 예제\n",
    "\n",
    "### 로컬"
   ]
  },
  {
   "cell_type": "code",
   "execution_count": 6,
   "metadata": {},
   "outputs": [],
   "source": [
    "# x 는 다음에 로컬 변수 입니다.\n",
    "f = lambda x:x**2"
   ]
  },
  {
   "cell_type": "markdown",
   "metadata": {},
   "source": [
    "### Enclosing function locals\n",
    "This occurs when we have a function inside a function (nested functions)\n"
   ]
  },
  {
   "cell_type": "code",
   "execution_count": 7,
   "metadata": {},
   "outputs": [
    {
     "name": "stdout",
     "output_type": "stream",
     "text": [
      "Hello Sammy\n",
      "This is a global name\n"
     ]
    }
   ],
   "source": [
    "name = 'This is a global name'\n",
    "\n",
    "def greet():\n",
    "    # Enclosing function\n",
    "    name = 'Sammy'\n",
    "    \n",
    "    def hello():\n",
    "        print('Hello ' + name)\n",
    "    \n",
    "    hello()\n",
    "\n",
    "greet()\n",
    "print(name)"
   ]
  },
  {
   "cell_type": "markdown",
   "metadata": {},
   "source": [
    "hello() 함수가 greet() 함수에 의해 포함되어 있으므로 name을 참조할 때 자신의 로컬도 아닌 경우 글로벌을 참조하기 전에 자신을 포함한 함수의 로컬에 선언되어 있는 가를 먼저 찾습니다."
   ]
  },
  {
   "cell_type": "markdown",
   "metadata": {},
   "source": [
    "### 글로벌\n",
    "현재 이 쥬피터인 경우에는 하나의 파이썬 프로세스가 연동되어 있으므로 다른 셀에서 선언한 글로벌이 있으면 참조할 수 있습니다."
   ]
  },
  {
   "cell_type": "code",
   "execution_count": 8,
   "metadata": {},
   "outputs": [
    {
     "name": "stdout",
     "output_type": "stream",
     "text": [
      "This is a global name\n"
     ]
    }
   ],
   "source": [
    "print(name)"
   ]
  },
  {
   "cell_type": "markdown",
   "metadata": {},
   "source": [
    "### 내장 함수(Built-in)\n",
    "파이썬에서는 미리 정의한 내장 함수가 있습니다. (절대 이 내장함수를 덮어쓰지 마셔요.)\n",
    "***덮어쓰기가 가능하다는 의미입니다!!!***"
   ]
  },
  {
   "cell_type": "markdown",
   "metadata": {},
   "source": [
    "## 로컬 변수\n",
    "함수 정의 안에서 이전에 나오지 않았던 변수를 선언하게 되면 이것은 로컬 변수로 사용됩니다. 해당 변수는 로컬 변수입니다.\n",
    "\n",
    "예를 들어,"
   ]
  },
  {
   "cell_type": "code",
   "execution_count": 21,
   "metadata": {},
   "outputs": [
    {
     "name": "stdout",
     "output_type": "stream",
     "text": [
      "x is 50\n",
      "Changed local x to 2\n",
      "x is still 50\n"
     ]
    }
   ],
   "source": [
    "x = 50\n",
    "\n",
    "def func(x):\n",
    "    print('x is', x)\n",
    "    x = 2\n",
    "    print('Changed local x to', x)\n",
    "    #print(locals())\n",
    "\n",
    "func(x)\n",
    "print('x is still', x)"
   ]
  },
  {
   "cell_type": "markdown",
   "metadata": {},
   "source": [
    "최초 x가 선언되었을 때 글로벌 x 가 50이었습니다. 그 다음 함수 func를 호출할 때 패러미터로 x가 넘어가고 func의 바디 중 첫번째 출력에서는 넘어온 패러미터 x의 값 (50)이 출력됩니다. 그 다음 x는 패러미터인 값이고 이것이 2로 변경된 다음 출력해보면 2가 출력되는데 이것은 로컬 패러미터 변수 입니다.\n",
    "\n",
    "함수가 종료되고 x를 출력하면 글로벌의 50이 됩니다. 그 이유는 이전에 변경하였던 2는 글로벌이 아니라 패러미터로 넘어간 로컬 참조이기 때문입니다.\n",
    "\n",
    "## global 문\n",
    "\n",
    "위와 같이 동일한 x를 글로벌 변수로도 사용하고 함수 안에서도 사용했다면 함수 안의 x는 로컬 변수가 되는데 반해 함수 안에서 글로벌 변수를 이용하라고 할 수 있습니다. global 문을 이용하여 해당 변수를 글로벌로 사용하겠다는 것을 알려주면 됩니다.\n",
    "\n",
    "만약 global 선언 없이 함수 안에서 동일 변수를 할당하지 않고 참조만 한다면 글로벌 변수의 값을 참조하여 읽을 수 있습니다만 해당 글로벌 변수 값을 수정할 수는 없습니다. (대입문을 선언하는 순간 로컬 변수가 되기 때문이지요)\n",
    "\n",
    "예를 들어,"
   ]
  },
  {
   "cell_type": "code",
   "execution_count": 22,
   "metadata": {},
   "outputs": [
    {
     "name": "stdout",
     "output_type": "stream",
     "text": [
      "Before calling func(), x is:  50\n",
      "This function is now using the global x!\n",
      "Because of global x is:  50\n",
      "Ran func(), changed global x to 2\n",
      "Value of x (outside of func()) is:  2\n"
     ]
    }
   ],
   "source": [
    "x = 50\n",
    "\n",
    "def func():\n",
    "    global x\n",
    "    print('This function is now using the global x!')\n",
    "    print('Because of global x is: ', x)\n",
    "    x = 2\n",
    "    print('Ran func(), changed global x to', x)\n",
    "    #print(locals())\n",
    "\n",
    "print('Before calling func(), x is: ', x)\n",
    "func()\n",
    "print('Value of x (outside of func()) is: ', x)"
   ]
  },
  {
   "cell_type": "markdown",
   "metadata": {
    "collapsed": true
   },
   "source": [
    "> global x, y, x\n",
    "\n",
    "와 같이 여러 변수를 한꺼번에 글러벌 참조하도록 할 수 있습니다.\n",
    "\n",
    "(이미 해당 변수가 글로벌로 있지 않아도 상관없이 글로벌 변수로 인식합니다.)"
   ]
  },
  {
   "cell_type": "markdown",
   "metadata": {
    "collapsed": true
   },
   "source": [
    "## 결론\n",
    "\n",
    "위와 같이 스코프에 대해 잘 이해하고 있다면 개발 시 오류도 많이 줄일 수 있습니다. (하지만 글로벌과 동일한 변수명을 가급적 사용하지 않는 것은 좋은 프로그래밍 습관입니다. 꼭 필요한 글로벌 변수에 대해서만 global 로 선언해 줍니다.)\n",
    "\n",
    "그리고 globals() 와 locals() 내장 함수를 이용하여 현재 사이썬 인터프리터가 사용하고 있는 로컬 또는 글로벌 변수를 확인할 수 있습니다.\n",
    "\n",
    "끝으로 한번 더 강조하면 파이썬은 모든 것이 객체입니다. 숫자와 마찬가지로 변수와 함수 등과 상관없이 모든 것을 대입하고 변수처럼 사용할 수 있습니다. 이후 데코레이터에 관하여 살펴볼 때 한번 더 확인해 보겠습니다."
   ]
  },
  {
   "cell_type": "code",
   "execution_count": null,
   "metadata": {
    "collapsed": true
   },
   "outputs": [],
   "source": []
  }
 ],
 "metadata": {
  "kernelspec": {
   "display_name": "Python 3",
   "language": "python",
   "name": "python3"
  },
  "language_info": {
   "codemirror_mode": {
    "name": "ipython",
    "version": 3
   },
   "file_extension": ".py",
   "mimetype": "text/x-python",
   "name": "python",
   "nbconvert_exporter": "python",
   "pygments_lexer": "ipython3",
   "version": "3.6.2"
  }
 },
 "nbformat": 4,
 "nbformat_minor": 1
}
