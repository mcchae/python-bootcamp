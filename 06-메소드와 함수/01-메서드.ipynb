{
 "cells": [
  {
   "cell_type": "markdown",
   "metadata": {},
   "source": [
    "# 메서드(Methods)\n",
    "\n",
    "이미 이전에 데이터 구조 및 자료 형 및 객체 등을 배우면서 메서드에 대한 몇몇 예를 살펴본 바 있습니다. 메서드는 객체에서 그 객체의 특정 작업을 수행하는 함수로 동작합니다. 이후 객체 지향 프로그래밍 (OOP)와 클래스 등을 배우면서 자체 클래스를 만들고 그것에 대한 메서드를 작성하는 것을 살펴볼 수 있습니다.\n",
    "\n",
    "메서드는 함수에서와 동일하게 패러미터를 받아 해당 객체에 대한 특별한 작업을 수행하는 역할을 한다고 생각하면 됩니다. 이번 설명에서는 메서드에 관한 간단한 설명으로 시작하여 이후 OOP 까지 갔을 때 어떻게 메서드를 설계하고 구현할지에 대한 기본 과정이라 생각하시면 됩니다.\n",
    "\n",
    "메서드의 호출 형식:\n",
    "\n",
    "    object.method(arg1,arg2,etc...)\n",
    "    \n",
    "나중에 OOP에 나오겠지만 메서드의 첫번째 인자는 **self**라는 것을 넣어 이 self가 해당 객체 자신을 가리키게 참조합니다. 호출하는 입장에서는 이 self가 보이지 않지만 실제 구현하는 입장에서는 self를 넣어 구현하게 됩니다.\n",
    "\n",
    "간단한 예를 살펴봅니다."
   ]
  },
  {
   "cell_type": "code",
   "execution_count": 1,
   "metadata": {
    "collapsed": true
   },
   "outputs": [],
   "source": [
    "# 간단한 리스트 생성\n",
    "l = [1,2,3,4,5]"
   ]
  },
  {
   "cell_type": "markdown",
   "metadata": {},
   "source": [
    "운이 좋게도, iPython이라는 확장 파이썬 인터프리터와 퓨피터 노트북의 기능을 이용하여 쉽게 해당 메서드의 목록을 탭키를 이용하여 확인할 수 있습니다. 예를 들어 리스트에 대한 메서드로는,\n",
    "\n",
    "* append\n",
    "* count\n",
    "* extend\n",
    "* insert\n",
    "* pop\n",
    "* remove\n",
    "* reverse\n",
    "* sort\n",
    "\n",
    "등과 같은 것이 있는데 아래와 같이 확인해 보겠습니다."
   ]
  },
  {
   "cell_type": "markdown",
   "metadata": {},
   "source": [
    "append() 메서드는 리스트의 마지막에 새로운 항목을 추가합니다."
   ]
  },
  {
   "cell_type": "code",
   "execution_count": 2,
   "metadata": {
    "collapsed": true
   },
   "outputs": [],
   "source": [
    "l.append('abc')"
   ]
  },
  {
   "cell_type": "code",
   "execution_count": 3,
   "metadata": {
    "collapsed": true
   },
   "outputs": [],
   "source": [
    "l.append(6)"
   ]
  },
  {
   "cell_type": "code",
   "execution_count": 4,
   "metadata": {},
   "outputs": [
    {
     "data": {
      "text/plain": [
       "[1, 2, 3, 4, 5, 'abc', 6]"
      ]
     },
     "execution_count": 4,
     "metadata": {},
     "output_type": "execute_result"
    }
   ],
   "source": [
    "l"
   ]
  },
  {
   "cell_type": "markdown",
   "metadata": {},
   "source": [
    "잘 하셨습니다! 이제 count() 메서드를 확인해 볼까요? count(obj) 메서드는 리스트가 가지고 있는 항목 중 obj의 개수를 보여줍니다. (set와 달리 list는 중복 허용이 가능합니다)"
   ]
  },
  {
   "cell_type": "code",
   "execution_count": 5,
   "metadata": {},
   "outputs": [
    {
     "data": {
      "text/plain": [
       "1"
      ]
     },
     "execution_count": 5,
     "metadata": {},
     "output_type": "execute_result"
    }
   ],
   "source": [
    "# 리스트에서 2라는 항목이 몇번 등장하는가?\n",
    "l.count(2)"
   ]
  },
  {
   "cell_type": "code",
   "execution_count": 6,
   "metadata": {},
   "outputs": [
    {
     "data": {
      "text/plain": [
       "1"
      ]
     },
     "execution_count": 6,
     "metadata": {},
     "output_type": "execute_result"
    }
   ],
   "source": [
    "l.count('abc')"
   ]
  },
  {
   "cell_type": "code",
   "execution_count": 7,
   "metadata": {},
   "outputs": [
    {
     "data": {
      "text/plain": [
       "0"
      ]
     },
     "execution_count": 7,
     "metadata": {},
     "output_type": "execute_result"
    }
   ],
   "source": [
    "l.count('ddd')"
   ]
  },
  {
   "cell_type": "markdown",
   "metadata": {},
   "source": [
    "쥬피터 노트북에서 해당 메서드에 대한 보다 자세한 도움말을 확인하려면 Shift+Tab키를 누릅니다. 일반적으로 파이썬에서 help() 내장 함수를 이용하여 해당 도움말을 확인해 볼 수 있습니다."
   ]
  },
  {
   "cell_type": "code",
   "execution_count": 6,
   "metadata": {},
   "outputs": [
    {
     "name": "stdout",
     "output_type": "stream",
     "text": [
      "Help on built-in function count:\n",
      "\n",
      "count(...)\n",
      "    L.count(value) -> integer -- return number of occurrences of value\n",
      "\n"
     ]
    }
   ],
   "source": [
    "help(l.count)"
   ]
  },
  {
   "cell_type": "markdown",
   "metadata": {},
   "source": [
    "리스트에 대한 다른 메서드로 충분히 활용해 보십시오. 이후 \n",
    "Feel free to play around with the rest of the methods for a list. Later on in this section your quiz will involve using help and Google searching for methods of different types of objects!"
   ]
  },
  {
   "cell_type": "markdown",
   "metadata": {},
   "source": [
    "Great! By this lecture you should feel comfortable calling methods of objects in Python!"
   ]
  }
 ],
 "metadata": {
  "kernelspec": {
   "display_name": "Python 3",
   "language": "python",
   "name": "python3"
  },
  "language_info": {
   "codemirror_mode": {
    "name": "ipython",
    "version": 3
   },
   "file_extension": ".py",
   "mimetype": "text/x-python",
   "name": "python",
   "nbconvert_exporter": "python",
   "pygments_lexer": "ipython3",
   "version": "3.6.2"
  }
 },
 "nbformat": 4,
 "nbformat_minor": 1
}
