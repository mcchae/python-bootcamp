{
 "cells": [
  {
   "cell_type": "markdown",
   "metadata": {},
   "source": [
    "# map()\n",
    "\n",
    "map()은 다음과 같이 함수와 시퀀스를 받아 하나씩 처리하는 역할을 합니다.\n",
    "\n",
    "> map(function, sequence)\n",
    "\n",
    "첫번째 function은 함수명만 기술하고 (괄호를 넣지 않습니다. 괄호를 넣으면 해당 함수를 직접 호출하는 것입니다) 두번째 패러미터는 리스트와 같은 시퀀스 객체입니다. 파이썬 2.x 에서는 결과로 해당 리스트가 리턴되지만 파이썬 3.x 에서는 해당 제너레이터가 리턴됩니다.\n",
    "\n",
    "리스트 내포를 이용하여 온도인 화씨를 섭씨로 변환하는 것을 해 봅니다. map 을 이용해 봅니다.\n",
    "\n",
    "우선 다음과 같은 두 함수를 정의합니다."
   ]
  },
  {
   "cell_type": "code",
   "execution_count": 1,
   "metadata": {},
   "outputs": [],
   "source": [
    "def fahrenheit(T):\n",
    "    return ((float(9)/5)*T + 32)\n",
    "def celsius(T):\n",
    "    return (float(5)/9)*(T-32)\n",
    "    \n",
    "temp = [0, 22.5, 40,100]"
   ]
  },
  {
   "cell_type": "markdown",
   "metadata": {},
   "source": [
    "그 다음 아래와 같이 map() 을 사용하면,"
   ]
  },
  {
   "cell_type": "code",
   "execution_count": 2,
   "metadata": {},
   "outputs": [
    {
     "data": {
      "text/plain": [
       "[32.0, 72.5, 104.0, 212.0]"
      ]
     },
     "execution_count": 2,
     "metadata": {},
     "output_type": "execute_result"
    }
   ],
   "source": [
    "F_temps = [x for x in map(fahrenheit, temp)]\n",
    "\n",
    "#Show\n",
    "F_temps"
   ]
  },
  {
   "cell_type": "code",
   "execution_count": 3,
   "metadata": {},
   "outputs": [
    {
     "data": {
      "text/plain": [
       "[0.0, 22.5, 40.0, 100.0]"
      ]
     },
     "execution_count": 3,
     "metadata": {},
     "output_type": "execute_result"
    }
   ],
   "source": [
    "# Convert back\n",
    "[x for x in map(celsius, F_temps)]"
   ]
  },
  {
   "cell_type": "markdown",
   "metadata": {},
   "source": [
    "위에서는 함수를 선언하고 해당 함수를 map의 첫번째 패러미터로 사용하였으나 익명함수인 람다를 이용할 수도 있습니다."
   ]
  },
  {
   "cell_type": "code",
   "execution_count": 4,
   "metadata": {},
   "outputs": [
    {
     "data": {
      "text/plain": [
       "[0.0, 22.5, 40.0, 100.0]"
      ]
     },
     "execution_count": 4,
     "metadata": {},
     "output_type": "execute_result"
    }
   ],
   "source": [
    "[x for x in map(lambda x: (5.0/9)*(x - 32), F_temps)]"
   ]
  },
  {
   "cell_type": "markdown",
   "metadata": {},
   "source": [
    "훌륭합니다! 동일한 결과를 얻었군요. map 의 사용 목적이 수동으로 for 루프를 이용하는 것을 줄이려는 데 있으므로 위와 같이 람다 함수를 이용하는 것이 더 직관적으로 좋은 프로그래밍 방법이라고도 할 수 있습니다."
   ]
  },
  {
   "cell_type": "markdown",
   "metadata": {},
   "source": [
    "map 함수의 두번째 패러미터인 시퀀스는 세번째 패러미터 등에 계속해서 나올 수 있습니다. 대신 동일한 크기의 시퀀스 이어야 합니다.\n",
    "\n",
    "예를 들어, 만약 두 개의 동일한 길이의 리스트가 있고 이를 동시에 합하는 결과를 구한다 하면, 다음과 같이"
   ]
  },
  {
   "cell_type": "code",
   "execution_count": 5,
   "metadata": {},
   "outputs": [
    {
     "data": {
      "text/plain": [
       "[6, 8, 10, 12]"
      ]
     },
     "execution_count": 5,
     "metadata": {},
     "output_type": "execute_result"
    }
   ],
   "source": [
    "a = [1,2,3,4]\n",
    "b = [5,6,7,8]\n",
    "c = [9,10,11,12]\n",
    "\n",
    "[e for e in map(lambda x,y:x+y, a,b)]"
   ]
  },
  {
   "cell_type": "code",
   "execution_count": 6,
   "metadata": {},
   "outputs": [
    {
     "data": {
      "text/plain": [
       "[15, 18, 21, 24]"
      ]
     },
     "execution_count": 6,
     "metadata": {},
     "output_type": "execute_result"
    }
   ],
   "source": [
    "# Now all three lists\n",
    "[e for e in map(lambda x,y,z:x+y+z, a,b,c)]"
   ]
  },
  {
   "cell_type": "markdown",
   "metadata": {},
   "source": [
    "바로 위의 예와 같이 리스트 시퀀스 a, b, c에서 차례대로 각 항목을 x, y, z에 읽어온 다음 더하기를 하는 map을 매번 부르게 됩니다.\n",
    "\n",
    "map()을 이용하여 좀 더 읽기 좋은 코드를 만들 수 있습니다. 많이 활용해 보십시오."
   ]
  },
  {
   "cell_type": "code",
   "execution_count": 7,
   "metadata": {},
   "outputs": [],
   "source": [
    "def my_map(f, *args):\n",
    "    for i in range(len(args[0])):\n",
    "        l = list()\n",
    "        for j in range(len(args)):\n",
    "            l.append(args[j][i])\n",
    "        yield f(*tuple(l))"
   ]
  },
  {
   "cell_type": "code",
   "execution_count": 8,
   "metadata": {},
   "outputs": [
    {
     "data": {
      "text/plain": [
       "[45, 120, 231, 384]"
      ]
     },
     "execution_count": 8,
     "metadata": {},
     "output_type": "execute_result"
    }
   ],
   "source": [
    "[x for x in my_map(lambda x,y,z:x*y*z, a,b,c)]"
   ]
  },
  {
   "cell_type": "code",
   "execution_count": null,
   "metadata": {},
   "outputs": [],
   "source": []
  }
 ],
 "metadata": {
  "kernelspec": {
   "display_name": "Python 3",
   "language": "python",
   "name": "python3"
  },
  "language_info": {
   "codemirror_mode": {
    "name": "ipython",
    "version": 3
   },
   "file_extension": ".py",
   "mimetype": "text/x-python",
   "name": "python",
   "nbconvert_exporter": "python",
   "pygments_lexer": "ipython3",
   "version": "3.6.2"
  }
 },
 "nbformat": 4,
 "nbformat_minor": 1
}
