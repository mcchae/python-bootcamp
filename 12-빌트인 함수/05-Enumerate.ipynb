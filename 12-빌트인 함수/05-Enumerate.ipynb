{
 "cells": [
  {
   "cell_type": "markdown",
   "metadata": {},
   "source": [
    "# enumerate()\n",
    "\n",
    "For 루프를 이야기 하면서 잠깐 언급했었던 enumerate() 빌트인 함수입니다. 이 빌트인 함수는 특정 시퀀스를 받아 항목 하나 하나 마다 `(count, element)` 의 튜플을 리턴해 줍니다.\n",
    "\n",
    "다음과 같은 코드라고 할 수 있습니다.\n",
    "\n",
    "    def enumerate(sequence, start=0):\n",
    "        n = start\n",
    "        for elem in sequence:\n",
    "            yield n, elem\n",
    "            n += 1\n",
    "\n",
    "## 예"
   ]
  },
  {
   "cell_type": "code",
   "execution_count": 1,
   "metadata": {},
   "outputs": [],
   "source": [
    "enumerate?"
   ]
  },
  {
   "cell_type": "code",
   "execution_count": 2,
   "metadata": {},
   "outputs": [
    {
     "name": "stdout",
     "output_type": "stream",
     "text": [
      "[0001] a\n",
      "[0002] b\n",
      "[0003] c\n"
     ]
    }
   ],
   "source": [
    "lst = ['a','b','c']\n",
    "\n",
    "for number,item in enumerate(lst, start=1):\n",
    "    print('[%04d] %s' % (number, item))"
   ]
  },
  {
   "cell_type": "markdown",
   "metadata": {},
   "source": [
    "일반적으로 C 등의 프로그램에서는 카운터를 넣고 색인으로 특정 리스트의 값을 가져오는 것이 일반적이지만, 파이썬에서는 그 방법 대신 시퀀스를 접근하는데, 이런 경우 카운터 등을 이용하는데 더 없이 좋은 방법이 이 enumerate() 빌트인 함수를 이용하는 것입니다."
   ]
  },
  {
   "cell_type": "code",
   "execution_count": 3,
   "metadata": {},
   "outputs": [
    {
     "name": "stdout",
     "output_type": "stream",
     "text": [
      "[0000] a\n",
      "[0001] b\n"
     ]
    }
   ],
   "source": [
    "for count,item in enumerate(lst):\n",
    "    if count >= 2:\n",
    "        break\n",
    "    else:\n",
    "        print('[%04d] %s' % (count, item))"
   ]
  },
  {
   "cell_type": "markdown",
   "metadata": {},
   "source": [
    "위에서와 같이 카운터를 이용하여 어떤 작업 (위에서는 루프 멈춤, break)을 쉽게 할 수 있습니다."
   ]
  },
  {
   "cell_type": "code",
   "execution_count": null,
   "metadata": {},
   "outputs": [],
   "source": []
  }
 ],
 "metadata": {
  "kernelspec": {
   "display_name": "Python 3",
   "language": "python",
   "name": "python3"
  },
  "language_info": {
   "codemirror_mode": {
    "name": "ipython",
    "version": 3
   },
   "file_extension": ".py",
   "mimetype": "text/x-python",
   "name": "python",
   "nbconvert_exporter": "python",
   "pygments_lexer": "ipython3",
   "version": "3.6.2"
  }
 },
 "nbformat": 4,
 "nbformat_minor": 1
}
