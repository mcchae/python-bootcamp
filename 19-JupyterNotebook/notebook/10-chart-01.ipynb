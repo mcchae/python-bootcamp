{
 "cells": [
  {
   "cell_type": "markdown",
   "metadata": {},
   "source": [
    "간단한 도표를 그려 보겠습니다.\n",
    "\n",
    "그 이전에 다음과 같은 모듈을 모두 불러왔습니다.\n",
    "\n",
    "터미널에서 다음의 명령을 수행합니다.\n",
    "\n",
    "```\n",
    "$ conda install numpy pandas matplotlib seaborn\n",
    "```"
   ]
  },
  {
   "cell_type": "code",
   "execution_count": 1,
   "metadata": {},
   "outputs": [],
   "source": [
    "import numpy as np"
   ]
  },
  {
   "cell_type": "code",
   "execution_count": 2,
   "metadata": {},
   "outputs": [],
   "source": [
    "import matplotlib.pyplot as plt"
   ]
  },
  {
   "cell_type": "code",
   "execution_count": 3,
   "metadata": {},
   "outputs": [],
   "source": [
    "plt?"
   ]
  },
  {
   "cell_type": "code",
   "execution_count": 4,
   "metadata": {},
   "outputs": [],
   "source": [
    "%matplotlib inline"
   ]
  },
  {
   "cell_type": "code",
   "execution_count": 5,
   "metadata": {},
   "outputs": [],
   "source": [
    "mat = np.random.rand(10, 10)"
   ]
  },
  {
   "cell_type": "code",
   "execution_count": 6,
   "metadata": {},
   "outputs": [
    {
     "data": {
      "text/plain": [
       "array([[ 0.9488027 ,  0.88778069,  0.51616656,  0.37007936,  0.36280128,\n",
       "         0.61815708,  0.5570689 ,  0.16063065,  0.04624482,  0.78037807],\n",
       "       [ 0.7170085 ,  0.99068564,  0.61519732,  0.13510403,  0.91774798,\n",
       "         0.50454077,  0.65317635,  0.54973517,  0.61597703,  0.77496114],\n",
       "       [ 0.58965476,  0.52855006,  0.66053546,  0.91895092,  0.49967679,\n",
       "         0.66630633,  0.65681616,  0.62383023,  0.26503958,  0.53889603],\n",
       "       [ 0.48841661,  0.94011976,  0.59308117,  0.27866719,  0.62079089,\n",
       "         0.42288516,  0.78285319,  0.53833713,  0.39381939,  0.27071051],\n",
       "       [ 0.7767478 ,  0.46842306,  0.57221477,  0.78855417,  0.55607011,\n",
       "         0.0047308 ,  0.11407604,  0.99429556,  0.91483605,  0.31285049],\n",
       "       [ 0.38350748,  0.58170887,  0.04129241,  0.09069671,  0.4832192 ,\n",
       "         0.12116909,  0.40923114,  0.35704244,  0.73674305,  0.12166822],\n",
       "       [ 0.95865972,  0.31881843,  0.10054507,  0.52268445,  0.19485924,\n",
       "         0.0534319 ,  0.63095176,  0.65677577,  0.14824384,  0.08521605],\n",
       "       [ 0.95171756,  0.18843151,  0.20997092,  0.8532863 ,  0.27212914,\n",
       "         0.77649476,  0.63276852,  0.16685672,  0.57816209,  0.69890299],\n",
       "       [ 0.60127188,  0.04357278,  0.30589237,  0.69748366,  0.16128302,\n",
       "         0.61766994,  0.48050663,  0.4833799 ,  0.48764804,  0.22529414],\n",
       "       [ 0.29367303,  0.35699783,  0.77114543,  0.53356543,  0.10794858,\n",
       "         0.13711368,  0.31779709,  0.379363  ,  0.71198232,  0.42967144]])"
      ]
     },
     "execution_count": 6,
     "metadata": {},
     "output_type": "execute_result"
    }
   ],
   "source": [
    "mat"
   ]
  },
  {
   "cell_type": "code",
   "execution_count": 7,
   "metadata": {},
   "outputs": [
    {
     "data": {
      "text/plain": [
       "<matplotlib.image.AxesImage at 0x7f7121d0f668>"
      ]
     },
     "execution_count": 7,
     "metadata": {},
     "output_type": "execute_result"
    },
    {
     "data": {
      "image/png": "[encoded data removed]",
      "text/plain": [
       "<matplotlib.figure.Figure at 0x7f7121d52278>"
      ]
     },
     "metadata": {},
     "output_type": "display_data"
    }
   ],
   "source": [
    "plt.imshow(mat, interpolation='none')"
   ]
  },
  {
   "cell_type": "markdown",
   "metadata": {},
   "source": [
    "mpld3 모듈을 이용하면 d3js를 이용할 수 있습니다.\n",
    "\n",
    "다음의 명령으로 해당 모듈을 가져옵니다. (conda 대신 pip 명령을 이용하였습니다)\n",
    "\n",
    "```\n",
    "$ pip install mpld3\n",
    "```"
   ]
  },
  {
   "cell_type": "code",
   "execution_count": 12,
   "metadata": {},
   "outputs": [],
   "source": [
    "import mpld3"
   ]
  },
  {
   "cell_type": "code",
   "execution_count": 13,
   "metadata": {},
   "outputs": [],
   "source": [
    "mpld3?"
   ]
  },
  {
   "cell_type": "code",
   "execution_count": 14,
   "metadata": {},
   "outputs": [],
   "source": [
    "mpld3.enable_notebook()"
   ]
  },
  {
   "cell_type": "code",
   "execution_count": 15,
   "metadata": {},
   "outputs": [
    {
     "data": {
      "text/plain": [
       "<matplotlib.image.AxesImage at 0x7f7120666358>"
      ]
     },
     "execution_count": 15,
     "metadata": {},
     "output_type": "execute_result"
    },
    {
     "data": {
      "image/png": "[encoded data removed]",
      "text/html": [
       "\n",
       "\n",
       "<style>\n",
       "\n",
       "</style>\n",
       "\n",
       "<div id=\"fig_el99011401238519608967883207453\"></div>\n",
       "<script>\n",
       "function mpld3_load_lib(url, callback){\n",
       "  var s = document.createElement('script');\n",
       "  s.src = url;\n",
       "  s.async = true;\n",
       "  s.onreadystatechange = s.onload = callback;\n",
       "  s.onerror = function(){console.warn(\"failed to load library \" + url);};\n",
       "  document.getElementsByTagName(\"head\")[0].appendChild(s);\n",
       "}\n",
       "\n",
       "if(typeof(mpld3) !== \"undefined\" && mpld3._mpld3IsLoaded){\n",
       "   // already loaded: just create the figure\n",
       "   !function(mpld3){\n",
       "       \n",
       "       mpld3.draw_figure(\"fig_el99011401238519608967883207453\", {\"axes\": [{\"axesbg\": \"#FFFFFF\", \"xlim\": [-0.5, 9.5], \"sharex\": [], \"images\": [{\"alpha\": null, \"zorder\": 0, \"id\": \"el9901140123851613016\", \"data\": \"iVBORw0KGgoAAAANSUhEUgAAAAoAAAAKCAYAAACNMs+9AAAABHNCSVQICAgIfAhkiAAAAYhJREFUGJUFwU9IU3EAwPHv+722N91E95hbPZBpQlOxm3+6FCUSieFBPXTyIAiiIzEQPIp/Tkl1C0XBoOwUFEgRbHhSPHjpUOJeOUeOpZPN1/6+zfn8fKTY35vWr5Kb8W+j1PyWka7AfJChaCgEVkzEYYzW7SwiGB3icXUZuy+PFk6x8eI1pbgT1fefwzEH0XU/FQRS0+aSVTFs1PvTrLa9Z+jzFN6WJJcVmbxpw/3RRbzXQpBQCPW/ImU4mZidQmnIYuz4eKjp5JNOjCYZLSwhnj7ap29zhquSzP3ZPQoXDhoWd/n57DbRgVU2Jt5QdgrknGt0zgwUCQR1kl98pO+68ZxUERv0shbuRG+sRbwFEZp+ibrtQHhUDmY0/F9N+HeO6LrgxpNzUkENKZNHlCyLOr1IodnDXO8nCl47d0IZANR5hci0wuU7CdGzM4ntxx9ymp0P8XvURHN8P2qlqNdyNOxCnCqYy7cQ6lYViZF2up/vE4loiHSWxoUydQdQnZBo6TzmrMPGNQtwktpYLGtKAAAAAElFTkSuQmCC\", \"extent\": [-0.5, 9.5, 9.5, -0.5], \"coordinates\": \"data\"}], \"xdomain\": [-0.5, 9.5], \"ydomain\": [9.5, -0.5], \"paths\": [], \"collections\": [], \"axes\": [{\"visible\": true, \"position\": \"bottom\", \"tickvalues\": null, \"scale\": \"linear\", \"nticks\": 7, \"grid\": {\"gridOn\": false}, \"fontsize\": 10.0, \"tickformat\": null}, {\"visible\": true, \"position\": \"left\", \"tickvalues\": null, \"scale\": \"linear\", \"nticks\": 7, \"grid\": {\"gridOn\": false}, \"fontsize\": 10.0, \"tickformat\": null}], \"texts\": [], \"xscale\": \"linear\", \"axesbgalpha\": null, \"sharey\": [], \"yscale\": \"linear\", \"zoomable\": true, \"markers\": [], \"lines\": [], \"id\": \"el9901140123852008248\", \"bbox\": [0.26083333333333336, 0.125, 0.5033333333333333, 0.755], \"ylim\": [9.5, -0.5]}], \"id\": \"el9901140123851960896\", \"plugins\": [{\"type\": \"reset\"}, {\"type\": \"zoom\", \"button\": true, \"enabled\": false}, {\"type\": \"boxzoom\", \"button\": true, \"enabled\": false}], \"data\": {}, \"width\": 432.0, \"height\": 288.0});\n",
       "   }(mpld3);\n",
       "}else if(typeof define === \"function\" && define.amd){\n",
       "   // require.js is available: use it to load d3/mpld3\n",
       "   require.config({paths: {d3: \"https://mpld3.github.io/js/d3.v3.min\"}});\n",
       "   require([\"d3\"], function(d3){\n",
       "      window.d3 = d3;\n",
       "      mpld3_load_lib(\"https://mpld3.github.io/js/mpld3.v0.3.js\", function(){\n",
       "         \n",
       "         mpld3.draw_figure(\"fig_el99011401238519608967883207453\", {\"axes\": [{\"axesbg\": \"#FFFFFF\", \"xlim\": [-0.5, 9.5], \"sharex\": [], \"images\": [{\"alpha\": null, \"zorder\": 0, \"id\": \"el9901140123851613016\", \"data\": \"iVBORw0KGgoAAAANSUhEUgAAAAoAAAAKCAYAAACNMs+9AAAABHNCSVQICAgIfAhkiAAAAYhJREFUGJUFwU9IU3EAwPHv+722N91E95hbPZBpQlOxm3+6FCUSieFBPXTyIAiiIzEQPIp/Tkl1C0XBoOwUFEgRbHhSPHjpUOJeOUeOpZPN1/6+zfn8fKTY35vWr5Kb8W+j1PyWka7AfJChaCgEVkzEYYzW7SwiGB3icXUZuy+PFk6x8eI1pbgT1fefwzEH0XU/FQRS0+aSVTFs1PvTrLa9Z+jzFN6WJJcVmbxpw/3RRbzXQpBQCPW/ImU4mZidQmnIYuz4eKjp5JNOjCYZLSwhnj7ap29zhquSzP3ZPQoXDhoWd/n57DbRgVU2Jt5QdgrknGt0zgwUCQR1kl98pO+68ZxUERv0shbuRG+sRbwFEZp+ibrtQHhUDmY0/F9N+HeO6LrgxpNzUkENKZNHlCyLOr1IodnDXO8nCl47d0IZANR5hci0wuU7CdGzM4ntxx9ymp0P8XvURHN8P2qlqNdyNOxCnCqYy7cQ6lYViZF2up/vE4loiHSWxoUydQdQnZBo6TzmrMPGNQtwktpYLGtKAAAAAElFTkSuQmCC\", \"extent\": [-0.5, 9.5, 9.5, -0.5], \"coordinates\": \"data\"}], \"xdomain\": [-0.5, 9.5], \"ydomain\": [9.5, -0.5], \"paths\": [], \"collections\": [], \"axes\": [{\"visible\": true, \"position\": \"bottom\", \"tickvalues\": null, \"scale\": \"linear\", \"nticks\": 7, \"grid\": {\"gridOn\": false}, \"fontsize\": 10.0, \"tickformat\": null}, {\"visible\": true, \"position\": \"left\", \"tickvalues\": null, \"scale\": \"linear\", \"nticks\": 7, \"grid\": {\"gridOn\": false}, \"fontsize\": 10.0, \"tickformat\": null}], \"texts\": [], \"xscale\": \"linear\", \"axesbgalpha\": null, \"sharey\": [], \"yscale\": \"linear\", \"zoomable\": true, \"markers\": [], \"lines\": [], \"id\": \"el9901140123852008248\", \"bbox\": [0.26083333333333336, 0.125, 0.5033333333333333, 0.755], \"ylim\": [9.5, -0.5]}], \"id\": \"el9901140123851960896\", \"plugins\": [{\"type\": \"reset\"}, {\"type\": \"zoom\", \"button\": true, \"enabled\": false}, {\"type\": \"boxzoom\", \"button\": true, \"enabled\": false}], \"data\": {}, \"width\": 432.0, \"height\": 288.0});\n",
       "      });\n",
       "    });\n",
       "}else{\n",
       "    // require.js not available: dynamically load d3 & mpld3\n",
       "    mpld3_load_lib(\"https://mpld3.github.io/js/d3.v3.min.js\", function(){\n",
       "         mpld3_load_lib(\"https://mpld3.github.io/js/mpld3.v0.3.js\", function(){\n",
       "                 \n",
       "                 mpld3.draw_figure(\"fig_el99011401238519608967883207453\", {\"axes\": [{\"axesbg\": \"#FFFFFF\", \"xlim\": [-0.5, 9.5], \"sharex\": [], \"images\": [{\"alpha\": null, \"zorder\": 0, \"id\": \"el9901140123851613016\", \"data\": \"iVBORw0KGgoAAAANSUhEUgAAAAoAAAAKCAYAAACNMs+9AAAABHNCSVQICAgIfAhkiAAAAYhJREFUGJUFwU9IU3EAwPHv+722N91E95hbPZBpQlOxm3+6FCUSieFBPXTyIAiiIzEQPIp/Tkl1C0XBoOwUFEgRbHhSPHjpUOJeOUeOpZPN1/6+zfn8fKTY35vWr5Kb8W+j1PyWka7AfJChaCgEVkzEYYzW7SwiGB3icXUZuy+PFk6x8eI1pbgT1fefwzEH0XU/FQRS0+aSVTFs1PvTrLa9Z+jzFN6WJJcVmbxpw/3RRbzXQpBQCPW/ImU4mZidQmnIYuz4eKjp5JNOjCYZLSwhnj7ap29zhquSzP3ZPQoXDhoWd/n57DbRgVU2Jt5QdgrknGt0zgwUCQR1kl98pO+68ZxUERv0shbuRG+sRbwFEZp+ibrtQHhUDmY0/F9N+HeO6LrgxpNzUkENKZNHlCyLOr1IodnDXO8nCl47d0IZANR5hci0wuU7CdGzM4ntxx9ymp0P8XvURHN8P2qlqNdyNOxCnCqYy7cQ6lYViZF2up/vE4loiHSWxoUydQdQnZBo6TzmrMPGNQtwktpYLGtKAAAAAElFTkSuQmCC\", \"extent\": [-0.5, 9.5, 9.5, -0.5], \"coordinates\": \"data\"}], \"xdomain\": [-0.5, 9.5], \"ydomain\": [9.5, -0.5], \"paths\": [], \"collections\": [], \"axes\": [{\"visible\": true, \"position\": \"bottom\", \"tickvalues\": null, \"scale\": \"linear\", \"nticks\": 7, \"grid\": {\"gridOn\": false}, \"fontsize\": 10.0, \"tickformat\": null}, {\"visible\": true, \"position\": \"left\", \"tickvalues\": null, \"scale\": \"linear\", \"nticks\": 7, \"grid\": {\"gridOn\": false}, \"fontsize\": 10.0, \"tickformat\": null}], \"texts\": [], \"xscale\": \"linear\", \"axesbgalpha\": null, \"sharey\": [], \"yscale\": \"linear\", \"zoomable\": true, \"markers\": [], \"lines\": [], \"id\": \"el9901140123852008248\", \"bbox\": [0.26083333333333336, 0.125, 0.5033333333333333, 0.755], \"ylim\": [9.5, -0.5]}], \"id\": \"el9901140123851960896\", \"plugins\": [{\"type\": \"reset\"}, {\"type\": \"zoom\", \"button\": true, \"enabled\": false}, {\"type\": \"boxzoom\", \"button\": true, \"enabled\": false}], \"data\": {}, \"width\": 432.0, \"height\": 288.0});\n",
       "            })\n",
       "         });\n",
       "}\n",
       "</script>"
      ],
      "text/plain": [
       "<matplotlib.figure.Figure at 0x7f71206bb240>"
      ]
     },
     "metadata": {},
     "output_type": "display_data"
    }
   ],
   "source": [
    "plt.imshow(mat, interpolation='none')"
   ]
  },
  {
   "cell_type": "code",
   "execution_count": null,
   "metadata": {},
   "outputs": [],
   "source": []
  }
 ],
 "metadata": {
  "kernelspec": {
   "display_name": "Python 3",
   "language": "python",
   "name": "python3"
  },
  "language_info": {
   "codemirror_mode": {
    "name": "ipython",
    "version": 3
   },
   "file_extension": ".py",
   "mimetype": "text/x-python",
   "name": "python",
   "nbconvert_exporter": "python",
   "pygments_lexer": "ipython3",
   "version": "3.5.4"
  }
 },
 "nbformat": 4,
 "nbformat_minor": 2
}
