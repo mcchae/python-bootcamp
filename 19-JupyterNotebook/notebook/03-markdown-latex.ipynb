{
 "cells": [
  {
   "cell_type": "markdown",
   "metadata": {},
   "source": [
    "Markdown 셀에서 마크다운으로 코멘트를 작성할 수 있을 뿐 아니라 Latex 스크립트를 이용하여 수학식 표현도 가능합니다."
   ]
  },
  {
   "cell_type": "markdown",
   "metadata": {},
   "source": [
    "# 제목 1\n",
    "## 제목 2\n",
    "\n",
    "이것은 *이텔릭* 또는 **볼드** 아니면 ***둘다*** 표현가능할 뿐만 아니라,\n",
    "\n",
    "[링크](http://ipython.org) 도 가능합니다."
   ]
  },
  {
   "cell_type": "markdown",
   "metadata": {},
   "source": [
    "더군다나 일반 마크다운에서 표현할 수 없는 Latex 표현식도 가능합니다."
   ]
  },
  {
   "cell_type": "markdown",
   "metadata": {},
   "source": [
    "### 표현식\n",
    "\n",
    "$$\\hat{f}(\\xi) = \\int_{-\\infty}^{+\\infty} f(x)\\, \\mathrm{e}^{-i \\xi x} dx$$"
   ]
  },
  {
   "cell_type": "code",
   "execution_count": null,
   "metadata": {},
   "outputs": [],
   "source": []
  }
 ],
 "metadata": {
  "kernelspec": {
   "display_name": "Python 3",
   "language": "python",
   "name": "python3"
  },
  "language_info": {
   "codemirror_mode": {
    "name": "ipython",
    "version": 3
   },
   "file_extension": ".py",
   "mimetype": "text/x-python",
   "name": "python",
   "nbconvert_exporter": "python",
   "pygments_lexer": "ipython3",
   "version": "3.5.4"
  }
 },
 "nbformat": 4,
 "nbformat_minor": 2
}
