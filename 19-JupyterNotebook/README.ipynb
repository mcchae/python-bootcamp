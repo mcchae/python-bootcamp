{
 "cells": [
  {
   "cell_type": "markdown",
   "metadata": {},
   "source": [
    "# miniconda 로 간단한 환경 구축하여 작업\n",
    "\n",
    "## 준비사항\n",
    "\n",
    "### conda 설치\n",
    "\n",
    "```\n",
    "$ pyenv install miniconda3-4.0.5\n",
    "```\n",
    "\n",
    "### global 변경\n",
    "\n",
    "```\n",
    "$ pyenv global miniconda3-4.0.5\n",
    "```\n",
    "\n",
    "### jupyer notebook 설치\n",
    "\n",
    "```\n",
    "$ conda install jupyter\n",
    "```\n",
    "\n",
    "### jupyter notebook 구동\n",
    "\n",
    "```\n",
    "$ jupyter notebook --allow-root\n",
    "```\n"
   ]
  },
  {
   "cell_type": "code",
   "execution_count": null,
   "metadata": {},
   "outputs": [],
   "source": []
  }
 ],
 "metadata": {
  "kernelspec": {
   "display_name": "Python 3",
   "language": "python",
   "name": "python3"
  },
  "language_info": {
   "codemirror_mode": {
    "name": "ipython",
    "version": 3
   },
   "file_extension": ".py",
   "mimetype": "text/x-python",
   "name": "python",
   "nbconvert_exporter": "python",
   "pygments_lexer": "ipython3",
   "version": "3.5.4"
  }
 },
 "nbformat": 4,
 "nbformat_minor": 2
}
