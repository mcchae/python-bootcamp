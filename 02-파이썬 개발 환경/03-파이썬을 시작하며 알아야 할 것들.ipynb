{
 "cells": [
  {
   "cell_type": "markdown",
   "metadata": {},
   "source": [
    "# 파이썬을 시작하며 알아야 할 것들\n",
    "\n",
    "## 코멘트\n",
    "파이썬에서 코멘트는 `#` 문자 이후에 나오는 내용은 모두 실행되니 않는 코멘트 입니다.\n"
   ]
  },
  {
   "cell_type": "code",
   "execution_count": 1,
   "metadata": {},
   "outputs": [],
   "source": [
    "# 이것은 '#'로 시작하는 한 줄 전체가 코멘트 입니다"
   ]
  },
  {
   "cell_type": "code",
   "execution_count": 2,
   "metadata": {},
   "outputs": [
    {
     "data": {
      "text/plain": [
       "'abc'"
      ]
     },
     "execution_count": 2,
     "metadata": {},
     "output_type": "execute_result"
    }
   ],
   "source": [
    "'abc'  # 이렇게 어떤 명령 오른편에 코멘트를 달 수도 있습니다"
   ]
  },
  {
   "cell_type": "markdown",
   "metadata": {},
   "source": [
    "## 문장의 구분\n",
    "C 언어를 비롯하여 C++, C#, Java 등등의 거의 프로그래밍 언어에서는 `;` 세미콜론 문자를 이용하여 문장과 문장을 구분합니다.\n",
    "\n",
    "예\n",
    "\n",
    "```c\n",
    "int i, j;\n",
    "i = 1; j= 2;\n",
    "printf(\"%d+%d=%d\\n\", i, j, i+j);\n",
    "```\n"
   ]
  },
  {
   "cell_type": "markdown",
   "metadata": {},
   "source": [
    " 하지만 파이썬에서는 문장의 구분을 위에서처럼 세미콜론으로 하지 않습니다.\n",
    " \n",
    " > 물론 한줄에 두 문장을 사용하려고 일부러 세미콜론으로 구분을 하기는 하지만 가독성이 떨어지므로 그렇게 하도록 권고하는 고수 분은 안 계십니다.\n",
    " \n",
    " 대신 파이썬은 한줄에 하나의 문장이 오도록하여 문장과 문장을 구분합니다."
   ]
  },
  {
   "cell_type": "code",
   "execution_count": 4,
   "metadata": {},
   "outputs": [
    {
     "name": "stdout",
     "output_type": "stream",
     "text": [
      "1+2=3\n"
     ]
    }
   ],
   "source": [
    "i = 1\n",
    "j = 2\n",
    "print('%s+%s=%s' % (i, j, i+j))"
   ]
  },
  {
   "cell_type": "markdown",
   "metadata": {},
   "source": [
    "나중에 if문이나 for loop 과 간은 블럭에 관해서도 배울 예정이지만 콜론으로 끝나는 블럭의 시작 이후에는 동일한 들여쓰기 (`예, 4개의 공백문자`)를 이용하여 블럭과 블럭 또는 블럭과 문장을 구분합니다."
   ]
  },
  {
   "cell_type": "code",
   "execution_count": 5,
   "metadata": {},
   "outputs": [
    {
     "name": "stdout",
     "output_type": "stream",
     "text": [
      "if 문\n"
     ]
    }
   ],
   "source": [
    "if True:\n",
    "    print('if 문')  # 왼편에 들여쓰기 되어 있습니다\n",
    "else:\n",
    "    print('else 문')  # 왼편에 들여쓰기 되어 있습니다"
   ]
  },
  {
   "cell_type": "markdown",
   "metadata": {},
   "source": [
    "파이썬을 다른 언어와 구분 짓는 것 중에 제일 중요한 것을 하나 꼽으라면,\n",
    "\n",
    "# 가독성\n",
    "\n",
    "을 꼽겠습니다."
   ]
  },
  {
   "cell_type": "code",
   "execution_count": null,
   "metadata": {},
   "outputs": [],
   "source": []
  }
 ],
 "metadata": {
  "kernelspec": {
   "display_name": "Python 3",
   "language": "python",
   "name": "python3"
  },
  "language_info": {
   "codemirror_mode": {
    "name": "ipython",
    "version": 3
   },
   "file_extension": ".py",
   "mimetype": "text/x-python",
   "name": "python",
   "nbconvert_exporter": "python",
   "pygments_lexer": "ipython3",
   "version": "3.6.2"
  }
 },
 "nbformat": 4,
 "nbformat_minor": 2
}
